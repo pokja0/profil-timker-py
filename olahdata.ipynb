{
 "cells": [
  {
   "cell_type": "code",
   "execution_count": 1,
   "metadata": {},
   "outputs": [],
   "source": [
    "import polars as pl"
   ]
  },
  {
   "cell_type": "code",
   "execution_count": 111,
   "metadata": {},
   "outputs": [
    {
     "data": {
      "text/html": [
       "<div><style>\n",
       ".dataframe > thead > tr,\n",
       ".dataframe > tbody > tr {\n",
       "  text-align: right;\n",
       "  white-space: pre-wrap;\n",
       "}\n",
       "</style>\n",
       "<small>shape: (3, 11)</small><table border=\"1\" class=\"dataframe\"><thead><tr><th>KODE</th><th>URAIAN</th><th>TIM KERJA</th><th>TARGET</th><th>SATUAN \n",
       " TARGET</th><th>CAPAIAN</th><th>PERSENTASE CAPAIAN</th><th>PAGU ANGGARAN</th><th>REALISASI ANGGARAN</th><th>KODE TIMKER</th><th>PERSENTASE REALISASI ANGGARAN</th></tr><tr><td>str</td><td>str</td><td>str</td><td>i64</td><td>str</td><td>f64</td><td>f64</td><td>i64</td><td>i64</td><td>str</td><td>f64</td></tr></thead><tbody><tr><td>&quot;260&quot;</td><td>&quot;Pengelolaan kebijakan dan stra…</td><td>&quot;Akses, Kualitas Layanan KB dan…</td><td>169</td><td>&quot;Faskes&quot;</td><td>169.0</td><td>100.0</td><td>14160000</td><td>8820000</td><td>&quot;KB&quot;</td><td>62.29</td></tr><tr><td>&quot;261&quot;</td><td>&quot;Penyediaan fasilitasi peningka…</td><td>&quot;Akses, Kualitas Layanan KB dan…</td><td>159</td><td>&quot;Tenaga Kesehatan (Kumulatif)&quot;</td><td>0.0</td><td>0.0</td><td>41040000</td><td>0</td><td>&quot;KB&quot;</td><td>0.0</td></tr><tr><td>&quot;262&quot;</td><td>&quot;Fasilitasi Peningkatan dan Pem…</td><td>&quot;Akses, Kualitas Layanan KB dan…</td><td>2</td><td>&quot;Kegiatan&quot;</td><td>0.0</td><td>0.0</td><td>24610000</td><td>3615000</td><td>&quot;KB&quot;</td><td>14.69</td></tr></tbody></table></div>"
      ],
      "text/plain": [
       "shape: (3, 11)\n",
       "┌──────┬──────────────┬──────────────┬────────┬───┬──────────┬──────────────┬────────┬─────────────┐\n",
       "│ KODE ┆ URAIAN       ┆ TIM KERJA    ┆ TARGET ┆ … ┆ PAGU     ┆ REALISASI    ┆ KODE   ┆ PERSENTASE  │\n",
       "│ ---  ┆ ---          ┆ ---          ┆ ---    ┆   ┆ ANGGARAN ┆ ANGGARAN     ┆ TIMKER ┆ REALISASI   │\n",
       "│ str  ┆ str          ┆ str          ┆ i64    ┆   ┆ ---      ┆ ---          ┆ ---    ┆ ANGGARAN    │\n",
       "│      ┆              ┆              ┆        ┆   ┆ i64      ┆ i64          ┆ str    ┆ ---         │\n",
       "│      ┆              ┆              ┆        ┆   ┆          ┆              ┆        ┆ f64         │\n",
       "╞══════╪══════════════╪══════════════╪════════╪═══╪══════════╪══════════════╪════════╪═════════════╡\n",
       "│ 260  ┆ Pengelolaan  ┆ Akses,       ┆ 169    ┆ … ┆ 14160000 ┆ 8820000      ┆ KB     ┆ 62.29       │\n",
       "│      ┆ kebijakan    ┆ Kualitas     ┆        ┆   ┆          ┆              ┆        ┆             │\n",
       "│      ┆ dan stra…    ┆ Layanan KB   ┆        ┆   ┆          ┆              ┆        ┆             │\n",
       "│      ┆              ┆ dan…         ┆        ┆   ┆          ┆              ┆        ┆             │\n",
       "│ 261  ┆ Penyediaan   ┆ Akses,       ┆ 159    ┆ … ┆ 41040000 ┆ 0            ┆ KB     ┆ 0.0         │\n",
       "│      ┆ fasilitasi   ┆ Kualitas     ┆        ┆   ┆          ┆              ┆        ┆             │\n",
       "│      ┆ peningka…    ┆ Layanan KB   ┆        ┆   ┆          ┆              ┆        ┆             │\n",
       "│      ┆              ┆ dan…         ┆        ┆   ┆          ┆              ┆        ┆             │\n",
       "│ 262  ┆ Fasilitasi   ┆ Akses,       ┆ 2      ┆ … ┆ 24610000 ┆ 3615000      ┆ KB     ┆ 14.69       │\n",
       "│      ┆ Peningkatan  ┆ Kualitas     ┆        ┆   ┆          ┆              ┆        ┆             │\n",
       "│      ┆ dan Pem…     ┆ Layanan KB   ┆        ┆   ┆          ┆              ┆        ┆             │\n",
       "│      ┆              ┆ dan…         ┆        ┆   ┆          ┆              ┆        ┆             │\n",
       "└──────┴──────────────┴──────────────┴────────┴───┴──────────┴──────────────┴────────┴─────────────┘"
      ]
     },
     "execution_count": 111,
     "metadata": {},
     "output_type": "execute_result"
    }
   ],
   "source": [
    "\n",
    "output_anggaran = pl.read_excel(\"data/Capaian Output dan Komponen TA.2024.xlsx\")\n",
    "output_anggaran = output_anggaran.select(pl.exclude([\"PERMASALAHAN\", \"SATUAN CAPAIAN\", \"PERSENTASE REALISASI ANGGARAN\"]))\n",
    "output_anggaran = output_anggaran.drop_nulls()\n",
    "output_anggaran = output_anggaran.with_columns(\n",
    "        (pl.when(pl.col('TIM KERJA')=='Hukum, Kepegawaian Umum dan Pelayanan Publik')\n",
    "                .then(pl.lit('Hukum, Kepegawaian, Umum dan Pelayanan Publik'))\n",
    "                .otherwise(pl.col('TIM KERJA')))\n",
    "            .alias('TIM KERJA')\n",
    "                )\n",
    "output_anggaran = output_anggaran.with_columns(\n",
    "    pl.when(\n",
    "        pl.col(\"PERSENTASE CAPAIAN\") > 100\n",
    "    )\n",
    "    .then(100)\n",
    "    .otherwise(\n",
    "        pl.col(\"PERSENTASE CAPAIAN\")\n",
    "    )\n",
    "    .alias(\"PERSENTASE CAPAIAN\")\n",
    ")\n",
    "output_anggaran = output_anggaran.with_columns(\n",
    "    pl.when(pl.col(\"TIM KERJA\") == \"Akses, Kualitas Layanan KB dan Kesehatan Reproduksi\")\n",
    "    .then(pl.lit(\"KB\"))\n",
    "    .when(pl.col(\"TIM KERJA\") == \"Hubungan Antar Lembaga, Advokasi, KIE dan Kehumasan\")\n",
    "    .then(pl.lit(\"Advokasi\"))\n",
    "    .when(pl.col(\"TIM KERJA\") == \"Hukum, Kepegawaian, Umum dan Pelayanan Publik\")\n",
    "    .then(pl.lit(\"Kepegawaian\"))\n",
    "    .when(pl.col(\"TIM KERJA\") == \"Ketahanan Keluarga\")\n",
    "    .then(pl.lit(\"KS\"))\n",
    "    .when(pl.col(\"TIM KERJA\") == \"Keuangan, Anggaran dan Pengelolaan BMN\")\n",
    "    .then(pl.lit(\"Keuangan\"))\n",
    "    .when(pl.col(\"TIM KERJA\") == \"Pelaporan dan Statistik dan Pengelolaan TIK\")\n",
    "    .then(pl.lit(\"Datin\"))\n",
    "    .when(pl.col(\"TIM KERJA\") == \"Pelatihan dan Peningkatan Kompetensi\")\n",
    "    .then(pl.lit(\"Latbang\"))\n",
    "    .when(pl.col(\"TIM KERJA\") == \"Pencegahan Stunting\")\n",
    "    .then(pl.lit(\"Stunting\"))\n",
    "    .when(pl.col(\"TIM KERJA\") == \"Pengelolaan dan Pembinaan Tenaga Lini Lapangan\")\n",
    "    .then(pl.lit(\"Linlap\"))\n",
    "    .when(pl.col(\"TIM KERJA\") == \"Pengendalian Penduduk\")\n",
    "    .then(pl.lit(\"Dalduk\"))\n",
    "    .when(pl.col(\"TIM KERJA\") == \"Perencanaan dan Manajemen Kinerja\")\n",
    "    .then(pl.lit(\"Perencanaan\"))\n",
    "    .when(pl.col(\"TIM KERJA\") == \"ZI WBK/WBBM dan SPIP\")\n",
    "    .then(pl.lit(\"ZI\"))\n",
    "    .otherwise(pl.lit(\"D\"))\n",
    "    .alias(\"KODE TIMKER\")\n",
    ")\n",
    "\n",
    "output_anggaran = output_anggaran.with_columns(\n",
    "    (pl.col(\"REALISASI ANGGARAN\") / pl.col(\"PAGU ANGGARAN\")*100).alias(\"PERSENTASE REALISASI ANGGARAN\")\n",
    ")\n",
    "\n",
    "output_anggaran = output_anggaran.with_columns(\n",
    "    pl.col(\"PERSENTASE CAPAIAN\").round(2),\n",
    "    pl.col(\"PERSENTASE REALISASI ANGGARAN\").round(2)\n",
    ")\n",
    "\n",
    "output_anggaran.head(3)\n",
    "\n"
   ]
  },
  {
   "cell_type": "code",
   "execution_count": 113,
   "metadata": {},
   "outputs": [
    {
     "data": {
      "text/html": [
       "<div><style>\n",
       ".dataframe > thead > tr,\n",
       ".dataframe > tbody > tr {\n",
       "  text-align: right;\n",
       "  white-space: pre-wrap;\n",
       "}\n",
       "</style>\n",
       "<small>shape: (12, 3)</small><table border=\"1\" class=\"dataframe\"><thead><tr><th>KODE TIMKER</th><th>% CAPAIAN</th><th>% ANGGARAN</th></tr><tr><td>str</td><td>f64</td><td>f64</td></tr></thead><tbody><tr><td>&quot;Perencanaan&quot;</td><td>0.0</td><td>31.78</td></tr><tr><td>&quot;KS&quot;</td><td>77.518</td><td>45.328</td></tr><tr><td>&quot;Linlap&quot;</td><td>100.0</td><td>95.893333</td></tr><tr><td>&quot;Datin&quot;</td><td>62.5</td><td>41.5375</td></tr><tr><td>&quot;ZI&quot;</td><td>50.0</td><td>10.745</td></tr><tr><td>&hellip;</td><td>&hellip;</td><td>&hellip;</td></tr><tr><td>&quot;KB&quot;</td><td>44.002727</td><td>38.876364</td></tr><tr><td>&quot;Dalduk&quot;</td><td>69.92</td><td>NaN</td></tr><tr><td>&quot;Kepegawaian&quot;</td><td>100.0</td><td>28.895</td></tr><tr><td>&quot;Stunting&quot;</td><td>50.0</td><td>43.8075</td></tr><tr><td>&quot;Advokasi&quot;</td><td>29.63</td><td>22.674444</td></tr></tbody></table></div>"
      ],
      "text/plain": [
       "shape: (12, 3)\n",
       "┌─────────────┬───────────┬────────────┐\n",
       "│ KODE TIMKER ┆ % CAPAIAN ┆ % ANGGARAN │\n",
       "│ ---         ┆ ---       ┆ ---        │\n",
       "│ str         ┆ f64       ┆ f64        │\n",
       "╞═════════════╪═══════════╪════════════╡\n",
       "│ Perencanaan ┆ 0.0       ┆ 31.78      │\n",
       "│ KS          ┆ 77.518    ┆ 45.328     │\n",
       "│ Linlap      ┆ 100.0     ┆ 95.893333  │\n",
       "│ Datin       ┆ 62.5      ┆ 41.5375    │\n",
       "│ ZI          ┆ 50.0      ┆ 10.745     │\n",
       "│ …           ┆ …         ┆ …          │\n",
       "│ KB          ┆ 44.002727 ┆ 38.876364  │\n",
       "│ Dalduk      ┆ 69.92     ┆ NaN        │\n",
       "│ Kepegawaian ┆ 100.0     ┆ 28.895     │\n",
       "│ Stunting    ┆ 50.0      ┆ 43.8075    │\n",
       "│ Advokasi    ┆ 29.63     ┆ 22.674444  │\n",
       "└─────────────┴───────────┴────────────┘"
      ]
     },
     "execution_count": 113,
     "metadata": {},
     "output_type": "execute_result"
    }
   ],
   "source": [
    "output_anggaran.group_by(\n",
    "    \"KODE TIMKER\"\n",
    ").agg(\n",
    "    [pl.col(\"PERSENTASE CAPAIAN\").mean().alias(\"% CAPAIAN\"),\n",
    "    pl.col(\"PERSENTASE REALISASI ANGGARAN\").mean().alias(\"% ANGGARAN\")]\n",
    ")"
   ]
  },
  {
   "cell_type": "code",
   "execution_count": 87,
   "metadata": {},
   "outputs": [
    {
     "data": {
      "text/html": [
       "<div><style>\n",
       ".dataframe > thead > tr,\n",
       ".dataframe > tbody > tr {\n",
       "  text-align: right;\n",
       "  white-space: pre-wrap;\n",
       "}\n",
       "</style>\n",
       "<small>shape: (3, 10)</small><table border=\"1\" class=\"dataframe\"><thead><tr><th>KODE</th><th>URAIAN</th><th>TIM KERJA</th><th>TARGET</th><th>SATUAN \n",
       " TARGET</th><th>CAPAIAN</th><th>PERSENTASE CAPAIAN</th><th>PAGU ANGGARAN</th><th>REALISASI ANGGARAN</th><th>KODE TIMKER</th></tr><tr><td>str</td><td>str</td><td>str</td><td>i64</td><td>str</td><td>f64</td><td>f64</td><td>i64</td><td>i64</td><td>str</td></tr></thead><tbody><tr><td>&quot;260&quot;</td><td>&quot;Pengelolaan kebijakan dan stra…</td><td>&quot;Akses, Kualitas Layanan KB dan…</td><td>169</td><td>&quot;Faskes&quot;</td><td>169.0</td><td>100.0</td><td>14160000</td><td>8820000</td><td>&quot;KB&quot;</td></tr><tr><td>&quot;261&quot;</td><td>&quot;Penyediaan fasilitasi peningka…</td><td>&quot;Akses, Kualitas Layanan KB dan…</td><td>159</td><td>&quot;Tenaga Kesehatan (Kumulatif)&quot;</td><td>0.0</td><td>0.0</td><td>41040000</td><td>0</td><td>&quot;KB&quot;</td></tr><tr><td>&quot;262&quot;</td><td>&quot;Fasilitasi Peningkatan dan Pem…</td><td>&quot;Akses, Kualitas Layanan KB dan…</td><td>2</td><td>&quot;Kegiatan&quot;</td><td>0.0</td><td>0.0</td><td>24610000</td><td>3615000</td><td>&quot;KB&quot;</td></tr></tbody></table></div>"
      ],
      "text/plain": [
       "shape: (3, 10)\n",
       "┌──────┬──────────────┬──────────────┬────────┬───┬──────────────┬──────────┬─────────────┬────────┐\n",
       "│ KODE ┆ URAIAN       ┆ TIM KERJA    ┆ TARGET ┆ … ┆ PERSENTASE   ┆ PAGU     ┆ REALISASI   ┆ KODE   │\n",
       "│ ---  ┆ ---          ┆ ---          ┆ ---    ┆   ┆ CAPAIAN      ┆ ANGGARAN ┆ ANGGARAN    ┆ TIMKER │\n",
       "│ str  ┆ str          ┆ str          ┆ i64    ┆   ┆ ---          ┆ ---      ┆ ---         ┆ ---    │\n",
       "│      ┆              ┆              ┆        ┆   ┆ f64          ┆ i64      ┆ i64         ┆ str    │\n",
       "╞══════╪══════════════╪══════════════╪════════╪═══╪══════════════╪══════════╪═════════════╪════════╡\n",
       "│ 260  ┆ Pengelolaan  ┆ Akses,       ┆ 169    ┆ … ┆ 100.0        ┆ 14160000 ┆ 8820000     ┆ KB     │\n",
       "│      ┆ kebijakan    ┆ Kualitas     ┆        ┆   ┆              ┆          ┆             ┆        │\n",
       "│      ┆ dan stra…    ┆ Layanan KB   ┆        ┆   ┆              ┆          ┆             ┆        │\n",
       "│      ┆              ┆ dan…         ┆        ┆   ┆              ┆          ┆             ┆        │\n",
       "│ 261  ┆ Penyediaan   ┆ Akses,       ┆ 159    ┆ … ┆ 0.0          ┆ 41040000 ┆ 0           ┆ KB     │\n",
       "│      ┆ fasilitasi   ┆ Kualitas     ┆        ┆   ┆              ┆          ┆             ┆        │\n",
       "│      ┆ peningka…    ┆ Layanan KB   ┆        ┆   ┆              ┆          ┆             ┆        │\n",
       "│      ┆              ┆ dan…         ┆        ┆   ┆              ┆          ┆             ┆        │\n",
       "│ 262  ┆ Fasilitasi   ┆ Akses,       ┆ 2      ┆ … ┆ 0.0          ┆ 24610000 ┆ 3615000     ┆ KB     │\n",
       "│      ┆ Peningkatan  ┆ Kualitas     ┆        ┆   ┆              ┆          ┆             ┆        │\n",
       "│      ┆ dan Pem…     ┆ Layanan KB   ┆        ┆   ┆              ┆          ┆             ┆        │\n",
       "│      ┆              ┆ dan…         ┆        ┆   ┆              ┆          ┆             ┆        │\n",
       "└──────┴──────────────┴──────────────┴────────┴───┴──────────────┴──────────┴─────────────┴────────┘"
      ]
     },
     "execution_count": 87,
     "metadata": {},
     "output_type": "execute_result"
    }
   ],
   "source": []
  },
  {
   "cell_type": "code",
   "execution_count": 90,
   "metadata": {},
   "outputs": [
    {
     "ename": "ShapeError",
     "evalue": "unable to vstack, column names don't match: \"TIM KERJA\" and \"PERSENTASE CAPAIAN\"",
     "output_type": "error",
     "traceback": [
      "\u001b[0;31m---------------------------------------------------------------------------\u001b[0m",
      "\u001b[0;31mShapeError\u001b[0m                                Traceback (most recent call last)",
      "\u001b[0;32m/tmp/ipykernel_9433/1921560823.py\u001b[0m in \u001b[0;36m?\u001b[0;34m()\u001b[0m\n\u001b[1;32m     27\u001b[0m     \u001b[0;34m.\u001b[0m\u001b[0mwith_columns\u001b[0m\u001b[0;34m(\u001b[0m\u001b[0mpl\u001b[0m\u001b[0;34m.\u001b[0m\u001b[0mlit\u001b[0m\u001b[0;34m(\u001b[0m\u001b[0;34m\"SULBAR\"\u001b[0m\u001b[0;34m)\u001b[0m\u001b[0;34m.\u001b[0m\u001b[0malias\u001b[0m\u001b[0;34m(\u001b[0m\u001b[0;34m\"KODE TIMKER\"\u001b[0m\u001b[0;34m)\u001b[0m\u001b[0;34m)\u001b[0m\u001b[0;34m\u001b[0m\u001b[0;34m\u001b[0m\u001b[0m\n\u001b[1;32m     28\u001b[0m )\n\u001b[1;32m     29\u001b[0m \u001b[0;34m\u001b[0m\u001b[0m\n\u001b[1;32m     30\u001b[0m \u001b[0;31m# Menambah baris rata-rata ke data frame asli\u001b[0m\u001b[0;34m\u001b[0m\u001b[0;34m\u001b[0m\u001b[0m\n\u001b[0;32m---> 31\u001b[0;31m \u001b[0mdata_rekapitulasi_timker\u001b[0m \u001b[0;34m=\u001b[0m \u001b[0mdata_rekapitulasi_timker\u001b[0m\u001b[0;34m.\u001b[0m\u001b[0mvstack\u001b[0m\u001b[0;34m(\u001b[0m\u001b[0mmean_row\u001b[0m\u001b[0;34m)\u001b[0m\u001b[0;34m\u001b[0m\u001b[0;34m\u001b[0m\u001b[0m\n\u001b[0m\u001b[1;32m     32\u001b[0m \u001b[0;34m\u001b[0m\u001b[0m\n\u001b[1;32m     33\u001b[0m \u001b[0mprint\u001b[0m\u001b[0;34m(\u001b[0m\u001b[0mdata_rekapitulasi_timker\u001b[0m\u001b[0;34m)\u001b[0m\u001b[0;34m\u001b[0m\u001b[0;34m\u001b[0m\u001b[0m\n",
      "\u001b[0;32m~/Documents/projects/profil-timker-py/shinypy/lib/python3.10/site-packages/polars/dataframe/frame.py\u001b[0m in \u001b[0;36m?\u001b[0;34m(self, other, in_place)\u001b[0m\n\u001b[1;32m   7127\u001b[0m                     \u001b[0;32mraise\u001b[0m\u001b[0;34m\u001b[0m\u001b[0;34m\u001b[0m\u001b[0m\n\u001b[1;32m   7128\u001b[0m             \u001b[0;32melse\u001b[0m\u001b[0;34m:\u001b[0m\u001b[0;34m\u001b[0m\u001b[0;34m\u001b[0m\u001b[0m\n\u001b[1;32m   7129\u001b[0m                 \u001b[0;32mreturn\u001b[0m \u001b[0mself\u001b[0m\u001b[0;34m\u001b[0m\u001b[0;34m\u001b[0m\u001b[0m\n\u001b[1;32m   7130\u001b[0m \u001b[0;34m\u001b[0m\u001b[0m\n\u001b[0;32m-> 7131\u001b[0;31m         \u001b[0;32mreturn\u001b[0m \u001b[0mself\u001b[0m\u001b[0;34m.\u001b[0m\u001b[0m_from_pydf\u001b[0m\u001b[0;34m(\u001b[0m\u001b[0mself\u001b[0m\u001b[0;34m.\u001b[0m\u001b[0m_df\u001b[0m\u001b[0;34m.\u001b[0m\u001b[0mvstack\u001b[0m\u001b[0;34m(\u001b[0m\u001b[0mother\u001b[0m\u001b[0;34m.\u001b[0m\u001b[0m_df\u001b[0m\u001b[0;34m)\u001b[0m\u001b[0;34m)\u001b[0m\u001b[0;34m\u001b[0m\u001b[0;34m\u001b[0m\u001b[0m\n\u001b[0m",
      "\u001b[0;31mShapeError\u001b[0m: unable to vstack, column names don't match: \"TIM KERJA\" and \"PERSENTASE CAPAIAN\""
     ]
    }
   ],
   "source": []
  },
  {
   "cell_type": "code",
   "execution_count": null,
   "metadata": {},
   "outputs": [],
   "source": []
  },
  {
   "cell_type": "code",
   "execution_count": null,
   "metadata": {},
   "outputs": [],
   "source": [
    "unik = unik.select(pl.col(\"TIM KERJA\").unique())\n",
    "unik[\"TIM KERJA\"].to_numpy()"
   ]
  },
  {
   "cell_type": "code",
   "execution_count": null,
   "metadata": {},
   "outputs": [],
   "source": []
  }
 ],
 "metadata": {
  "kernelspec": {
   "display_name": "shinypy",
   "language": "python",
   "name": "python3"
  },
  "language_info": {
   "codemirror_mode": {
    "name": "ipython",
    "version": 3
   },
   "file_extension": ".py",
   "mimetype": "text/x-python",
   "name": "python",
   "nbconvert_exporter": "python",
   "pygments_lexer": "ipython3",
   "version": "3.10.12"
  }
 },
 "nbformat": 4,
 "nbformat_minor": 2
}
