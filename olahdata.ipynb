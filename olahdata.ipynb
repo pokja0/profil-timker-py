{
 "cells": [
  {
   "cell_type": "code",
   "execution_count": 4,
   "metadata": {},
   "outputs": [],
   "source": [
    "import polars as pl\n",
    "from itables import show\n",
    "import plotly.express as px\n"
   ]
  },
  {
   "cell_type": "code",
   "execution_count": 2,
   "metadata": {},
   "outputs": [
    {
     "data": {
      "text/html": [
       "<div><style>\n",
       ".dataframe > thead > tr,\n",
       ".dataframe > tbody > tr {\n",
       "  text-align: right;\n",
       "  white-space: pre-wrap;\n",
       "}\n",
       "</style>\n",
       "<small>shape: (3, 11)</small><table border=\"1\" class=\"dataframe\"><thead><tr><th>KODE</th><th>URAIAN</th><th>TIM KERJA</th><th>TARGET</th><th>SATUAN \n",
       " TARGET</th><th>CAPAIAN</th><th>PERSENTASE CAPAIAN</th><th>PAGU ANGGARAN</th><th>REALISASI ANGGARAN</th><th>KODE TIMKER</th><th>PERSENTASE REALISASI ANGGARAN</th></tr><tr><td>str</td><td>str</td><td>str</td><td>i64</td><td>str</td><td>f64</td><td>f64</td><td>i64</td><td>i64</td><td>str</td><td>f64</td></tr></thead><tbody><tr><td>&quot;260&quot;</td><td>&quot;Pengelolaan kebijakan dan stra…</td><td>&quot;Akses, Kualitas Layanan KB dan…</td><td>169</td><td>&quot;Faskes&quot;</td><td>169.0</td><td>100.0</td><td>14160000</td><td>8820000</td><td>&quot;KB&quot;</td><td>62.29</td></tr><tr><td>&quot;261&quot;</td><td>&quot;Penyediaan fasilitasi peningka…</td><td>&quot;Akses, Kualitas Layanan KB dan…</td><td>159</td><td>&quot;Tenaga Kesehatan (Kumulatif)&quot;</td><td>0.0</td><td>0.0</td><td>41040000</td><td>0</td><td>&quot;KB&quot;</td><td>0.0</td></tr><tr><td>&quot;262&quot;</td><td>&quot;Fasilitasi Peningkatan dan Pem…</td><td>&quot;Akses, Kualitas Layanan KB dan…</td><td>2</td><td>&quot;Kegiatan&quot;</td><td>0.0</td><td>0.0</td><td>24610000</td><td>3615000</td><td>&quot;KB&quot;</td><td>14.69</td></tr></tbody></table></div>"
      ],
      "text/plain": [
       "shape: (3, 11)\n",
       "┌──────┬──────────────┬──────────────┬────────┬───┬──────────┬──────────────┬────────┬─────────────┐\n",
       "│ KODE ┆ URAIAN       ┆ TIM KERJA    ┆ TARGET ┆ … ┆ PAGU     ┆ REALISASI    ┆ KODE   ┆ PERSENTASE  │\n",
       "│ ---  ┆ ---          ┆ ---          ┆ ---    ┆   ┆ ANGGARAN ┆ ANGGARAN     ┆ TIMKER ┆ REALISASI   │\n",
       "│ str  ┆ str          ┆ str          ┆ i64    ┆   ┆ ---      ┆ ---          ┆ ---    ┆ ANGGARAN    │\n",
       "│      ┆              ┆              ┆        ┆   ┆ i64      ┆ i64          ┆ str    ┆ ---         │\n",
       "│      ┆              ┆              ┆        ┆   ┆          ┆              ┆        ┆ f64         │\n",
       "╞══════╪══════════════╪══════════════╪════════╪═══╪══════════╪══════════════╪════════╪═════════════╡\n",
       "│ 260  ┆ Pengelolaan  ┆ Akses,       ┆ 169    ┆ … ┆ 14160000 ┆ 8820000      ┆ KB     ┆ 62.29       │\n",
       "│      ┆ kebijakan    ┆ Kualitas     ┆        ┆   ┆          ┆              ┆        ┆             │\n",
       "│      ┆ dan stra…    ┆ Layanan KB   ┆        ┆   ┆          ┆              ┆        ┆             │\n",
       "│      ┆              ┆ dan…         ┆        ┆   ┆          ┆              ┆        ┆             │\n",
       "│ 261  ┆ Penyediaan   ┆ Akses,       ┆ 159    ┆ … ┆ 41040000 ┆ 0            ┆ KB     ┆ 0.0         │\n",
       "│      ┆ fasilitasi   ┆ Kualitas     ┆        ┆   ┆          ┆              ┆        ┆             │\n",
       "│      ┆ peningka…    ┆ Layanan KB   ┆        ┆   ┆          ┆              ┆        ┆             │\n",
       "│      ┆              ┆ dan…         ┆        ┆   ┆          ┆              ┆        ┆             │\n",
       "│ 262  ┆ Fasilitasi   ┆ Akses,       ┆ 2      ┆ … ┆ 24610000 ┆ 3615000      ┆ KB     ┆ 14.69       │\n",
       "│      ┆ Peningkatan  ┆ Kualitas     ┆        ┆   ┆          ┆              ┆        ┆             │\n",
       "│      ┆ dan Pem…     ┆ Layanan KB   ┆        ┆   ┆          ┆              ┆        ┆             │\n",
       "│      ┆              ┆ dan…         ┆        ┆   ┆          ┆              ┆        ┆             │\n",
       "└──────┴──────────────┴──────────────┴────────┴───┴──────────┴──────────────┴────────┴─────────────┘"
      ]
     },
     "execution_count": 2,
     "metadata": {},
     "output_type": "execute_result"
    }
   ],
   "source": [
    "\n",
    "output_anggaran = pl.read_excel(\"data/Capaian Output dan Komponen TA.2024.xlsx\")\n",
    "output_anggaran = output_anggaran.select(pl.exclude([\"PERMASALAHAN\", \"SATUAN CAPAIAN\", \"PERSENTASE REALISASI ANGGARAN\"]))\n",
    "output_anggaran = output_anggaran.drop_nulls()\n",
    "output_anggaran = output_anggaran.with_columns(\n",
    "        (pl.when(pl.col('TIM KERJA')=='Hukum, Kepegawaian Umum dan Pelayanan Publik')\n",
    "                .then(pl.lit('Hukum, Kepegawaian, Umum dan Pelayanan Publik'))\n",
    "                .otherwise(pl.col('TIM KERJA')))\n",
    "            .alias('TIM KERJA')\n",
    "                )\n",
    "output_anggaran = output_anggaran.with_columns(\n",
    "    pl.when(\n",
    "        pl.col(\"PERSENTASE CAPAIAN\") > 100\n",
    "    )\n",
    "    .then(100)\n",
    "    .otherwise(\n",
    "        pl.col(\"PERSENTASE CAPAIAN\")\n",
    "    )\n",
    "    .alias(\"PERSENTASE CAPAIAN\")\n",
    ")\n",
    "output_anggaran = output_anggaran.with_columns(\n",
    "    pl.when(pl.col(\"TIM KERJA\") == \"Akses, Kualitas Layanan KB dan Kesehatan Reproduksi\")\n",
    "    .then(pl.lit(\"KB\"))\n",
    "    .when(pl.col(\"TIM KERJA\") == \"Hubungan Antar Lembaga, Advokasi, KIE dan Kehumasan\")\n",
    "    .then(pl.lit(\"Advokasi\"))\n",
    "    .when(pl.col(\"TIM KERJA\") == \"Hukum, Kepegawaian, Umum dan Pelayanan Publik\")\n",
    "    .then(pl.lit(\"Kepegawaian\"))\n",
    "    .when(pl.col(\"TIM KERJA\") == \"Ketahanan Keluarga\")\n",
    "    .then(pl.lit(\"KS\"))\n",
    "    .when(pl.col(\"TIM KERJA\") == \"Keuangan, Anggaran dan Pengelolaan BMN\")\n",
    "    .then(pl.lit(\"Keuangan\"))\n",
    "    .when(pl.col(\"TIM KERJA\") == \"Pelaporan dan Statistik dan Pengelolaan TIK\")\n",
    "    .then(pl.lit(\"Datin\"))\n",
    "    .when(pl.col(\"TIM KERJA\") == \"Pelatihan dan Peningkatan Kompetensi\")\n",
    "    .then(pl.lit(\"Latbang\"))\n",
    "    .when(pl.col(\"TIM KERJA\") == \"Pencegahan Stunting\")\n",
    "    .then(pl.lit(\"Stunting\"))\n",
    "    .when(pl.col(\"TIM KERJA\") == \"Pengelolaan dan Pembinaan Tenaga Lini Lapangan\")\n",
    "    .then(pl.lit(\"Linlap\"))\n",
    "    .when(pl.col(\"TIM KERJA\") == \"Pengendalian Penduduk\")\n",
    "    .then(pl.lit(\"Dalduk\"))\n",
    "    .when(pl.col(\"TIM KERJA\") == \"Perencanaan dan Manajemen Kinerja\")\n",
    "    .then(pl.lit(\"Perencanaan\"))\n",
    "    .when(pl.col(\"TIM KERJA\") == \"ZI WBK/WBBM dan SPIP\")\n",
    "    .then(pl.lit(\"ZI\"))\n",
    "    .otherwise(pl.lit(\"D\"))\n",
    "    .alias(\"KODE TIMKER\")\n",
    ")\n",
    "\n",
    "output_anggaran = output_anggaran.with_columns(\n",
    "    (pl.col(\"REALISASI ANGGARAN\") / pl.col(\"PAGU ANGGARAN\")*100).alias(\"PERSENTASE REALISASI ANGGARAN\")\n",
    ")\n",
    "\n",
    "output_anggaran = output_anggaran.with_columns(\n",
    "    pl.col(\"PERSENTASE CAPAIAN\").round(2),\n",
    "    pl.col(\"PERSENTASE REALISASI ANGGARAN\").round(2)\n",
    ")\n",
    "output_anggaran = output_anggaran.fill_nan(0)\n",
    "\n",
    "output_anggaran.head(3)\n",
    "\n"
   ]
  },
  {
   "cell_type": "code",
   "execution_count": 28,
   "metadata": {},
   "outputs": [
    {
     "data": {
      "text/html": [
       "<table id=\"itables_374add80_de79_4459_b107_ea74bcd4cfde\" class=\"display nowrap\" data-quarto-disable-processing=\"true\" style=\"table-layout:auto;width:auto;margin:auto;caption-side:bottom\">\n",
       "<thead>\n",
       "    <tr style=\"text-align: right;\">\n",
       "      \n",
       "      <th>KODE</th>\n",
       "      <th>URAIAN</th>\n",
       "      <th>TIM KERJA</th>\n",
       "      <th>TARGET</th>\n",
       "      <th>SATUAN \n",
       " TARGET</th>\n",
       "      <th>CAPAIAN</th>\n",
       "      <th>PERSENTASE CAPAIAN</th>\n",
       "      <th>PAGU ANGGARAN</th>\n",
       "      <th>REALISASI ANGGARAN</th>\n",
       "      <th>KODE TIMKER</th>\n",
       "      <th>PERSENTASE REALISASI ANGGARAN</th>\n",
       "    </tr>\n",
       "  </thead><tbody><tr>\n",
       "<td style=\"vertical-align:middle; text-align:left\">\n",
       "<div style=\"float:left; margin-right: 10px;\">\n",
       "<a href=https://mwouts.github.io/itables/><svg class=\"main-svg\" xmlns=\"http://www.w3.org/2000/svg\" xmlns:xlink=\"http://www.w3.org/1999/xlink\"\n",
       "width=\"64\" viewBox=\"0 0 500 400\" style=\"font-family: 'Droid Sans', sans-serif;\">\n",
       "    <g style=\"fill:#d9d7fc\">\n",
       "        <path d=\"M100,400H500V357H100Z\" />\n",
       "        <path d=\"M100,300H400V257H100Z\" />\n",
       "        <path d=\"M0,200H400V157H0Z\" />\n",
       "        <path d=\"M100,100H500V57H100Z\" />\n",
       "        <path d=\"M100,350H500V307H100Z\" />\n",
       "        <path d=\"M100,250H400V207H100Z\" />\n",
       "        <path d=\"M0,150H400V107H0Z\" />\n",
       "        <path d=\"M100,50H500V7H100Z\" />\n",
       "    </g>\n",
       "    <g style=\"fill:#1a1366;stroke:#1a1366;\">\n",
       "   <rect x=\"100\" y=\"7\" width=\"400\" height=\"43\">\n",
       "    <animate\n",
       "      attributeName=\"width\"\n",
       "      values=\"0;400;0\"\n",
       "      dur=\"5s\"\n",
       "      repeatCount=\"indefinite\" />\n",
       "      <animate\n",
       "      attributeName=\"x\"\n",
       "      values=\"100;100;500\"\n",
       "      dur=\"5s\"\n",
       "      repeatCount=\"indefinite\" />\n",
       "  </rect>\n",
       "        <rect x=\"0\" y=\"107\" width=\"400\" height=\"43\">\n",
       "    <animate\n",
       "      attributeName=\"width\"\n",
       "      values=\"0;400;0\"\n",
       "      dur=\"3.5s\"\n",
       "      repeatCount=\"indefinite\" />\n",
       "    <animate\n",
       "      attributeName=\"x\"\n",
       "      values=\"0;0;400\"\n",
       "      dur=\"3.5s\"\n",
       "      repeatCount=\"indefinite\" />\n",
       "  </rect>\n",
       "        <rect x=\"100\" y=\"207\" width=\"300\" height=\"43\">\n",
       "    <animate\n",
       "      attributeName=\"width\"\n",
       "      values=\"0;300;0\"\n",
       "      dur=\"3s\"\n",
       "      repeatCount=\"indefinite\" />\n",
       "    <animate\n",
       "      attributeName=\"x\"\n",
       "      values=\"100;100;400\"\n",
       "      dur=\"3s\"\n",
       "      repeatCount=\"indefinite\" />\n",
       "  </rect>\n",
       "        <rect x=\"100\" y=\"307\" width=\"400\" height=\"43\">\n",
       "    <animate\n",
       "      attributeName=\"width\"\n",
       "      values=\"0;400;0\"\n",
       "      dur=\"4s\"\n",
       "      repeatCount=\"indefinite\" />\n",
       "      <animate\n",
       "      attributeName=\"x\"\n",
       "      values=\"100;100;500\"\n",
       "      dur=\"4s\"\n",
       "      repeatCount=\"indefinite\" />\n",
       "  </rect>\n",
       "        <g style=\"fill:transparent;stroke-width:8; stroke-linejoin:round\" rx=\"5\">\n",
       "            <g transform=\"translate(45 50) rotate(-45)\">\n",
       "                <circle r=\"33\" cx=\"0\" cy=\"0\" />\n",
       "                <rect x=\"-8\" y=\"32\" width=\"16\" height=\"30\" />\n",
       "            </g>\n",
       "\n",
       "            <g transform=\"translate(450 152)\">\n",
       "                <polyline points=\"-15,-20 -35,-20 -35,40 25,40 25,20\" />\n",
       "                <rect x=\"-15\" y=\"-40\" width=\"60\" height=\"60\" />\n",
       "            </g>\n",
       "\n",
       "            <g transform=\"translate(50 352)\">\n",
       "                <polygon points=\"-35,-5 0,-40 35,-5\" />\n",
       "                <polygon points=\"-35,10 0,45 35,10\" />\n",
       "            </g>\n",
       "\n",
       "            <g transform=\"translate(75 250)\">\n",
       "                <polyline points=\"-30,30 -60,0 -30,-30\" />\n",
       "                <polyline points=\"0,30 -30,0 0,-30\" />\n",
       "            </g>\n",
       "\n",
       "            <g transform=\"translate(425 250) rotate(180)\">\n",
       "                <polyline points=\"-30,30 -60,0 -30,-30\" />\n",
       "                <polyline points=\"0,30 -30,0 0,-30\" />\n",
       "            </g>\n",
       "        </g>\n",
       "    </g>\n",
       "</svg>\n",
       "</a>\n",
       "</div>\n",
       "<div>\n",
       "Loading ITables v2.1.4 from the internet...\n",
       "(need <a href=https://mwouts.github.io/itables/troubleshooting.html>help</a>?)</td>\n",
       "</div>\n",
       "</tr></tbody>\n",
       "\n",
       "</table>\n",
       "<link href=\"https://www.unpkg.com/dt_for_itables@2.0.11/dt_bundle.css\" rel=\"stylesheet\">\n",
       "<script type=\"module\">\n",
       "    import {DataTable, jQuery as $} from 'https://www.unpkg.com/dt_for_itables@2.0.11/dt_bundle.js';\n",
       "\n",
       "    document.querySelectorAll(\"#itables_374add80_de79_4459_b107_ea74bcd4cfde:not(.dataTable)\").forEach(table => {\n",
       "        // Define the table data\n",
       "        const data = [[\"260\", \"Pengelolaan kebijakan dan strategi peningkatan pelayanan KB di fasyankes\", \"Akses, Kualitas Layanan KB dan Kesehatan Reproduksi\", 169, \"Faskes\", 169.0, 100.0, 14160000, 8820000, \"KB\", 62.29], [\"261\", \"Penyediaan fasilitasi peningkatan kompetensi bagi Tenaga Kesehatan KB\", \"Akses, Kualitas Layanan KB dan Kesehatan Reproduksi\", 159, \"Tenaga Kesehatan (Kumulatif)\", 0.0, 0.0, 41040000, 0, \"KB\", 0.0], [\"262\", \"Fasilitasi Peningkatan dan Pembinaan Kesertaan KB Pria\", \"Akses, Kualitas Layanan KB dan Kesehatan Reproduksi\", 2, \"Kegiatan\", 0.0, 0.0, 24610000, 3615000, \"KB\", 14.69], [\"263\", \"Bimbingan dan Fasilitasi Ayoman Komplikasi dan Kegagalan KB MKJP serta koordinasi penggerakan KB MKJP di Kab/Kota\", \"Akses, Kualitas Layanan KB dan Kesehatan Reproduksi\", 6, \"Kabupaten/Kota\", 5.0, 83.33, 11558000, 10230373, \"KB\", 88.51], [\"264\", \"Integrasi Penggarapan Program dan Pelayanan KB Bersama Mitra Kerja di Wilayah Khusus\", \"Akses, Kualitas Layanan KB dan Kesehatan Reproduksi\", 2, \"Laporan\", 1.0, 50.0, 27294000, 1000000, \"KB\", 3.66], [\"265\", \"Penurunan Kehamilan yang Tidak Diinginkan (KTD) Melalui Promosi dan Konseling Kesehatan Reproduksi\", \"Akses, Kualitas Layanan KB dan Kesehatan Reproduksi\", 3, \"Kabupaten/Kota\", 3.0, 100.0, 17820000, 12905000, \"KB\", 72.42], [\"266\", \"Pembinaan kesertaan KB pascapersalinan di fasilitas kesehatan\", \"Akses, Kualitas Layanan KB dan Kesehatan Reproduksi\", 15200, \"Peserta\", 6336.0, 41.68, 17820000, 15152422, \"KB\", 85.03], [\"288\", \"Pelatihan Teknis Program Bangga Kencana\", \"Pelatihan dan Peningkatan Kompetensi\", 65, \"Orang\", 0.0, 0.0, 123300000, 0, \"Latbang\", 0.0], [\"233\", \"Fasilitasi Pembinaan Tumbuh Kembang Balita dan Anak dalam rangka pembentukan Karakter\", \"Ketahanan Keluarga\", 6, \"Kabupaten/Kota\", 6.0, 100.0, 102500000, 35111300, \"KS\", 34.25], [\"234\", \"Pengelolaan PPKS tingkat provinsi sebagai layanan publik dan fasilitasi PPKS di tingkat kecamatan (Balai Penyuluhan)\", \"Ketahanan Keluarga\", 1, \"PPKS\", 1.0, 100.0, 31930000, 15335340, \"KS\", 48.03], [\"244\", \"Peningkatan kualitas Bimbingan Teknis penyusunan profil/parameter, proyeksi penduduk, serta advokasi penyusunan Grand Design Pembangunan Kependudukan\", \"Pengendalian Penduduk\", 6, \"Kabupaten/Kota\", 4.0, 66.67, 27338000, 10400000, \"Dalduk\", 38.04], [\"245\", \"Koordinasi pemanfaatan dan pengintegrasian data kependudukan dalam perencanaan pembangunan daerah\", \"Pengendalian Penduduk\", 6, \"Kabupaten/Kota\", 4.0, 66.67, 0, 0, \"Dalduk\", 0.0], [\"246\", \"Peningkatan kualitas bimbingan teknis perencanaan pembangunan daerah\", \"Pengendalian Penduduk\", 6, \"Kabupaten/Kota\", 4.0, 66.67, 15168000, 500000, \"Dalduk\", 3.3], [\"247\", \"Peningkatan Sistem Registrasi Rumah Data Kependudukan\", \"Pengendalian Penduduk\", 520, \"Rumah DataKu di Kampung Keluarga Berkualitas\", 558.0, 100.0, 5600000, 0, \"Dalduk\", 0.0], [\"248\", \"Penguatan Tata kelola Rumah Data Kependudukan\", \"Pengendalian Penduduk\", 65, \"Rumah DataKu di Kampung Keluarga Berkualitas\", 171.0, 100.0, 11511000, 555000, \"Dalduk\", 4.82], [\"249\", \"Peningkatan Kualitas Penggerakan Kelompok Kerja Bangga Kencana Provinsi dan Kab/kota yang efektif\", \"Pengendalian Penduduk\", 4, \"Kelompok Kerja Bangga Kencana\", 6.0, 100.0, 23160000, 22800000, \"Dalduk\", 98.45], [\"250\", \"Pembinaan implementasi pendidikan kependudukan di tingkat provinsi dan kab/kota (formal, non formal dan informal)\", \"Pengendalian Penduduk\", 6, \"Kabupaten/Kota\", 6.0, 100.0, 45000000, 18345000, \"Dalduk\", 40.77], [\"251\", \"Penguatan internalisasi Kebijakan Sistem Peringatan Dini Pengendalian Penduduk di Kabupaten/Kota\", \"Pengendalian Penduduk\", 3, \"Kabupaten/Kota\", 3.0, 100.0, 48437000, 6700000, \"Dalduk\", 13.83], [\"252\", \"Penguatan Pemerintah Daerah dalam Pengelolaan Kampung KB dan Bimbingan teknis Kampung KB\", \"Pengendalian Penduduk\", 5, \"Kabupaten/Kota\", 5.0, 100.0, 27900000, 0, \"Dalduk\", 0.0], [\"270\", \"Peningkatan Peran Serta Pemangku Kepentingan dalam Penggerakan Program Bangga Kencana\", \"Hubungan Antar Lembaga, Advokasi, KIE dan Kehumasan\", 6, \"Jumlah Mitra Aktif\", 2.0, 33.33, 16764000, 3690000, \"Advokasi\", 22.01], [\"271\", \"Peningkatan Peran Serta Organisasi Kemasyarakatan dalam Penggerakan Program Bangga Kencana\", \"Hubungan Antar Lembaga, Advokasi, KIE dan Kehumasan\", 12, \"Jumlah Mitra Aktif\", 2.0, 16.67, 17250000, 0, \"Advokasi\", 0.0], [\"272\", \"Pengembangan Kebijakan dan dukungan Advokasi Promosi dan KIE Program Bangga Kencana\", \"Hubungan Antar Lembaga, Advokasi, KIE dan Kehumasan\", 1, \"Provinsi\", 0.0, 0.0, 15748000, 0, \"Advokasi\", 0.0], [\"273\", \"Peningkatan promosi dan KIE Program Bangga Kencana melalui Media Massa Cetak Media Elektronik Media Online serta Media Luar Ruang\", \"Hubungan Antar Lembaga, Advokasi, KIE dan Kehumasan\", 6, \"Frekuensi\", 1.0, 16.67, 7751000, 0, \"Advokasi\", 0.0], [\"274\", \"Peningkatan Kualitas Penggerakan Tim Advokasi Terpadu Program Bangga Kencana\", \"Hubungan Antar Lembaga, Advokasi, KIE dan Kehumasan\", 5, \"Tim Advokasi Provinsi dan Kab/Kota\", 0.0, 0.0, 10873000, 5120000, \"Advokasi\", 47.09], [\"275\", \"Pembinaan dan evaluasi Kinerja Penyuluh KB/PLKB serta Penguatan Kinerja IPeKB\", \"Pengelolaan dan Pembinaan Tenaga Lini Lapangan\", 1, \"Provinsi\", 2.0, 100.0, 19325000, 21110000, \"Linlap\", 109.24], [\"276\", \"Pembinaan Peningkatan Kualifikasi Institusi Masyarakat Pedesaan/Perkotaan (PPKBD dan Sub PPKBD)\", \"Pengelolaan dan Pembinaan Tenaga Lini Lapangan\", 1, \"Provinsi\", 1.0, 100.0, 17250000, 15390000, \"Linlap\", 89.22], [\"277\", \"Pembinaan Penguatan Pelaksanaan Mekanisme Operasional\", \"Pengelolaan dan Pembinaan Tenaga Lini Lapangan\", 1, \"Provinsi\", 1.0, 100.0, 17250000, 15390000, \"Linlap\", 89.22], [\"279\", \"Pembinaan Monitoring dan Evaluasi Promosi KIE Program Bangga Kencana\", \"Hubungan Antar Lembaga, Advokasi, KIE dan Kehumasan\", 1, \"Provinsi\", 0.0, 0.0, 13748000, 0, \"Advokasi\", 0.0], [\"280\", \"Peningkatan Kualitas layanan STIK dan Pengelolaan PPID\", \"Pelaporan dan Statistik dan Pengelolaan TIK\", 2, \"Laporan\", 1.0, 50.0, 14795000, 7850000, \"Datin\", 53.06], [\"259\", \"Studi kasus dan pembelajaran (provinsi)\", \"Pencegahan Stunting\", 1, \"Laporan\", 0.0, 0.0, 134990000, 52603000, \"Stunting\", 38.97], [\"285\", \"Koordinasi SATGAS Percepatan Penurunan Stunting Provinsi dan kab/kota\", \"Pencegahan Stunting\", 7, \"Provinsi/Kab/Kota\", 8.0, 100.0, 826350000, 283591000, \"Stunting\", 34.32], [\"286\", \"Intensifikasi SATGAS PPS pada 12 Provinsi prioritas\", \"Pencegahan Stunting\", 6, \"Kabupaten/Kota\", 7.0, 100.0, 164176000, 104687140, \"Stunting\", 63.77], [\"268\", \"Intensifikasi pelayanan KB di fasyankes\", \"Akses, Kualitas Layanan KB dan Kesehatan Reproduksi\", 169, \"Faskes\", 0.0, 0.0, 55241000, 0, \"KB\", 0.0], [\"243\", \"Edukasi Gizi dan Anemia kepada Remaja Usia 15-19 Tahun\", \"Ketahanan Keluarga\", 12852, \"Remaja/Orang\", 14003.0, 100.0, 162040000, 103324280, \"KS\", 63.76], [\"238\", \"Fasilitasi dan Pembinaan PIK Remaja dan BKR dalam Edukasi Penyiapan Kehidupan Berkeluarga Bagi Remaja (PKBR)\", \"Ketahanan Keluarga\", 189, \"Kelompok PIK Remaja dan BKR\", 80.0, 42.33, 550183000, 132317495, \"KS\", 24.05], [\"239\", \"Penguatan Pelaksanaan tujuh dimensi lansia tangguh dan pendampingan perawatan jangka panjang bagi lansia di Kelompok BKL\", \"Ketahanan Keluarga\", 57, \"Kelompok BKL\", 52.0, 91.23, 125940000, 109545000, \"KS\", 86.98], [\"241\", \"Fasilitasi Pemberdayaan Ekonomi Keluarga bagi Keluarga Akseptor KB dan Stunting di Kampung KB\", \"Ketahanan Keluarga\", 12, \"Kelompok UPPKA\", 10.0, 83.33, 77650000, 55304000, \"KS\", 71.22], [\"242\", \"fasilitasi pembinaan percepatan penurunan stunting melalui kelompok BKB\", \"Ketahanan Keluarga\", 503, \"Kelompok Masyarakat\", 477.0, 94.83, 222903000, 85465700, \"KS\", 38.34], [\"253\", \"Peningkatan kualitas Rumah Data kependudukan paripurna\", \"Pengendalian Penduduk\", 60, \"Rumah Data Kependudukan Paripurna\", 25.0, 41.67, 285107000, 103174271, \"Dalduk\", 36.19], [\"235\", \"Promosi dan KIE 1000 HPK\", \"Ketahanan Keluarga\", 23160, \"Keluarga\", 14697.0, 63.46, 75357000, 65298760, \"KS\", 86.65], [\"236\", \"Pelaporan pelaksanaan Promosi dan KIE 1000HPK\", \"Ketahanan Keluarga\", 1, \"Provinsi\", 1.0, 100.0, 1200000, 0, \"KS\", 0.0], [\"237\", \"Peningkatan komitmen dengan pemangku kebijakan dalam percepatan penurunan stunting\", \"Ketahanan Keluarga\", 1, \"Provinsi\", 0.0, 0.0, 25838000, 0, \"KS\", 0.0], [\"267\", \"Peningkatan Kualitas Pelayanan KB MKJP bagi faskes yang teregister (termasuk pembinaan, evaluasi dan ketersediaan alokon)\", \"Akses, Kualitas Layanan KB dan Kesehatan Reproduksi\", 169, \"Faskes\", 142.0, 84.02, 3085136000, 2777187622, \"KB\", 90.02], [\"281\", \"Peningkatan kualitas, cakupan pengelolaan serta pemanfaatan basis data keluarga Indonesia\", \"Pelaporan dan Statistik dan Pengelolaan TIK\", 6, \"Kabupaten/Kota\", 0.0, 0.0, 907772000, 5009000, \"Datin\", 0.55], [\"282\", \"Penguatan kualitas dan sistem data keluarga sasaran konvergensi percepatan penurunan stunting\", \"Pelaporan dan Statistik dan Pengelolaan TIK\", 1, \"Layanan\", 3.0, 100.0, 110600000, 74782100, \"Datin\", 67.61], [\"283\", \"verifikasi dan validasi data keluarga sasaran konvergesi di 12 provinsi\", \"Pelaporan dan Statistik dan Pengelolaan TIK\", 1, \"Layanan\", 3.0, 100.0, 220990000, 99280000, \"Datin\", 44.93], [\"284\", \"Kampanye Percepatan Penurunan Stunting\", \"Hubungan Antar Lembaga, Advokasi, KIE dan Kehumasan\", 16, \"Layanan\", 25.0, 100.0, 2984000000, 1687492529, \"Advokasi\", 56.55], [\"290\", \"Pelatihan pelayanan kontrasepsi dan orientasi TPK\", \"Pelatihan dan Peningkatan Kompetensi\", 30, \"Orang\", 50.0, 100.0, 743630000, 581296965, \"Latbang\", 78.17], [\"401\", \"Pelatihan/Orientasi Tim Pendamping Keluarga\", \"Pelatihan dan Peningkatan Kompetensi\", 2859, \"Orang\", 2859.0, 100.0, 1325752000, 987997449, \"Latbang\", 74.52], [\"291\", \"Pelatihan bagi Tenaga Program\", \"Pelatihan dan Peningkatan Kompetensi\", 222, \"Orang\", 54.0, 24.32, 342180000, 172349674, \"Latbang\", 50.37], [\"287\", \"Monitoring dan Evaluasi TPKTPPS SATGAS percepatan penurunan stunting provinsi kab/kota\", \"Pencegahan Stunting\", 1, \"Provinsi\", 0.0, 0.0, 88450000, 33765500, \"Stunting\", 38.17], [\"254\", \"Fasilitasi Intensifikasi kegiatan Bangga Kencana di kampung KB\", \"Pengendalian Penduduk\", 89, \"Kampung KB\", 36.0, 40.45, 151450000, 143695327, \"Dalduk\", 94.88], [\"255\", \"fasilitasi ekstensifikasi kegiatan bangga kencana di kampung KB\", \"Pengendalian Penduduk\", 162, \"Kampung KB\", 164.0, 100.0, 74100000, 53435000, \"Dalduk\", 72.11], [\"256\", \"Kegiatan Pemberdayaan percepatan penurunan stunting di Kampung KB\", \"Pengendalian Penduduk\", 6, \"Kabupaten/Kota\", 0.0, 0.0, 50290000, 19980000, \"Dalduk\", 39.73], [\"257\", \"Fasilitasi pengembangan DASHAT di kampung KB\", \"Pengendalian Penduduk\", 6, \"Kabupaten/Kota\", 0.0, 0.0, 38920000, 1500000, \"Dalduk\", 3.85], [\"258\", \"pendampingan perguruan tinggi/mahasiswa kepada pemda pemprov kab/kota\", \"Pengendalian Penduduk\", 6, \"Kabupaten/Kota\", 4.0, 66.67, 217580000, 77228080, \"Dalduk\", 35.49], [\"269\", \"Penguatan peran pemerintah daerah dalam pendampingan ibu hamil dan ibu pasca persalinan\", \"Akses, Kualitas Layanan KB dan Kesehatan Reproduksi\", 6, \"Kabupaten/Kota\", 0.0, 0.0, 45630000, 0, \"KB\", 0.0], [\"402\", \"intensifikasi Pelayanan KBKR di wilayah khusus\", \"Akses, Kualitas Layanan KB dan Kesehatan Reproduksi\", 4, \"Kabupaten/Kota\", 1.0, 25.0, 509220000, 56110000, \"KB\", 11.02], [\"293\", \"Pengelolaan Organisasi, Tata Laksana dan Reformasi Birokrasi\", \"Hubungan Antar Lembaga, Advokasi, KIE dan Kehumasan\", 1, \"Kegiatan\", 0.0, 0.0, 22360000, 2000000, \"Advokasi\", 8.94], [\"294\", \"Pengelolaan Keuangan dan BMN\", \"Keuangan, Anggaran dan Pengelolaan BMN\", 1, \"Kegiatan\", 1.0, 100.0, 66960000, 57998601, \"Keuangan\", 86.62], [\"295\", \"Pengelolaan Manajemen Kepegawaian\", \"Hukum, Kepegawaian, Umum dan Pelayanan Publik\", 1, \"Kegiatan\", 1.0, 100.0, 33480000, 8846717, \"Kepegawaian\", 26.42], [\"296\", \"Pengelolaan perencanaan Program dan Anggaran\", \"Perencanaan dan Manajemen Kinerja\", 1, \"Kegiatan\", 0.0, 0.0, 66051000, 37573830, \"Perencanaan\", 56.89], [\"1\", \"Gaji dan Tunjangan\", \"Keuangan, Anggaran dan Pengelolaan BMN\", 1, \"Layanan\", 1.0, 100.0, 42559574000, 26501412722, \"Keuangan\", 62.27], [\"2\", \"Operasional dan Pemeliharaan Kantor\", \"Hukum, Kepegawaian, Umum dan Pelayanan Publik\", 1, \"Layanan\", 1.0, 100.0, 1745575000, 547602384, \"Kepegawaian\", 31.37], [\"302\", \"Pelaksanaan Pengawasan Program Bangga Kencana di Provinsi\", \"ZI WBK/WBBM dan SPIP\", 1, \"Dokumen\", 0.0, 0.0, 20940000, 4500000, \"ZI\", 21.49], [\"299\", \"Penyelenggaraan Sekretariat Percepatan Penurunan Stunting Provinsi\", \"Perencanaan dan Manajemen Kinerja\", 1, \"Kegiatan\", 0.0, 0.0, 154861000, 10327600, \"Perencanaan\", 6.67], [\"300\", \"Humas Percepatan Penurunan Stunting tingkat Provinsi\", \"Hubungan Antar Lembaga, Advokasi, KIE dan Kehumasan\", 1, \"Layanan\", 2.0, 100.0, 59650000, 41444080, \"Advokasi\", 69.48], [\"303\", \"Pengawasan Kegiatan Percepatan Penurunan Stunting tk provinsi\", \"ZI WBK/WBBM dan SPIP\", 1, \"Dokumen\", 1.0, 100.0, 30402000, 0, \"ZI\", 0.0]];\n",
       "\n",
       "        // Define the dt_args\n",
       "        let dt_args = {\"layout\": {\"topStart\": \"pageLength\", \"topEnd\": \"search\", \"bottomStart\": \"info\", \"bottomEnd\": \"paging\"}, \"order\": []};\n",
       "        dt_args[\"data\"] = data;\n",
       "\n",
       "        \n",
       "        new DataTable(table, dt_args);\n",
       "    });\n",
       "</script>\n"
      ],
      "text/plain": [
       "<IPython.core.display.HTML object>"
      ]
     },
     "metadata": {},
     "output_type": "display_data"
    }
   ],
   "source": [
    "show(output_anggaran)"
   ]
  },
  {
   "cell_type": "code",
   "execution_count": 29,
   "metadata": {},
   "outputs": [
    {
     "data": {
      "text/plain": [
       "['KODE TIMKER', '% ANGGARAN', '% CAPAIAN']"
      ]
     },
     "execution_count": 29,
     "metadata": {},
     "output_type": "execute_result"
    }
   ],
   "source": [
    "rekap_oa = output_anggaran.group_by(\n",
    "    \"KODE TIMKER\"\n",
    ").agg(\n",
    "    [(pl.col(\"REALISASI ANGGARAN\").sum() / pl.col(\"PAGU ANGGARAN\").sum() *100).alias(\"% ANGGARAN\").round(2),\n",
    "    (pl.col(\"CAPAIAN\").sum() / pl.col(\"TARGET\").sum() *100).alias(\"% CAPAIAN\").round(2)]\n",
    ")\n",
    "rekap_oa.columns"
   ]
  },
  {
   "cell_type": "code",
   "execution_count": 31,
   "metadata": {},
   "outputs": [
    {
     "data": {
      "text/html": [
       "<div><style>\n",
       ".dataframe > thead > tr,\n",
       ".dataframe > tbody > tr {\n",
       "  text-align: right;\n",
       "  white-space: pre-wrap;\n",
       "}\n",
       "</style>\n",
       "<small>shape: (1, 2)</small><table border=\"1\" class=\"dataframe\"><thead><tr><th>% ANGGARAN</th><th>% CAPAIAN</th></tr><tr><td>f64</td><td>f64</td></tr></thead><tbody><tr><td>59.71</td><td>70.32</td></tr></tbody></table></div>"
      ],
      "text/plain": [
       "shape: (1, 2)\n",
       "┌────────────┬───────────┐\n",
       "│ % ANGGARAN ┆ % CAPAIAN │\n",
       "│ ---        ┆ ---       │\n",
       "│ f64        ┆ f64       │\n",
       "╞════════════╪═══════════╡\n",
       "│ 59.71      ┆ 70.32     │\n",
       "└────────────┴───────────┘"
      ]
     },
     "execution_count": 31,
     "metadata": {},
     "output_type": "execute_result"
    }
   ],
   "source": [
    "output_anggaran = output_anggaran.select(\n",
    "    [(pl.col(\"REALISASI ANGGARAN\").sum() / pl.col(\"PAGU ANGGARAN\").sum() *100).alias(\"% ANGGARAN\").round(2),\n",
    "    (pl.col(\"CAPAIAN\").sum() / pl.col(\"TARGET\").sum() *100).alias(\"% CAPAIAN\").round(2)]\n",
    ")\n",
    "# Menambahkan kolom \"KODE TIMKER\" dengan nilai \"Sulbar\"\n",
    "sulbar = sulbar.with_columns(pl.lit(\"Sulbar\").alias(\"KODE TIMKER\"))\n",
    "\n",
    "# Mengatur ulang kolom agar \"KODE TIMKER\" menjadi kolom pertama\n",
    "sulbar = sulbar.select([\n",
    "    \"KODE TIMKER\",  # Kolom pertama\n",
    "    pl.all().exclude(\"KODE TIMKER\")  # Kolom lainnya\n",
    "])"
   ]
  },
  {
   "cell_type": "code",
   "execution_count": 32,
   "metadata": {},
   "outputs": [
    {
     "data": {
      "text/html": [
       "<div><style>\n",
       ".dataframe > thead > tr,\n",
       ".dataframe > tbody > tr {\n",
       "  text-align: right;\n",
       "  white-space: pre-wrap;\n",
       "}\n",
       "</style>\n",
       "<small>shape: (1, 1)</small><table border=\"1\" class=\"dataframe\"><thead><tr><th>TARGET</th></tr><tr><td>i64</td></tr></thead><tbody><tr><td>56882</td></tr></tbody></table></div>"
      ],
      "text/plain": [
       "shape: (1, 1)\n",
       "┌────────┐\n",
       "│ TARGET │\n",
       "│ ---    │\n",
       "│ i64    │\n",
       "╞════════╡\n",
       "│ 56882  │\n",
       "└────────┘"
      ]
     },
     "execution_count": 32,
     "metadata": {},
     "output_type": "execute_result"
    }
   ],
   "source": [
    "output_anggaran.select(pl.col(\"TARGET\").sum())"
   ]
  },
  {
   "cell_type": "code",
   "execution_count": 58,
   "metadata": {},
   "outputs": [],
   "source": [
    "sulbar = output_anggaran.select(\n",
    "    pl.col(\"PERSENTASE CAPAIAN\").mean().alias(\"% CAPAIAN\").round(2),\n",
    "    pl.col(\"PERSENTASE REALISASI ANGGARAN\").mean().alias(\"% ANGGARAN\").round(2)\n",
    ")\n",
    "\n",
    "# Menambahkan kolom \"KODE TIMKER\" dengan nilai \"Sulbar\"\n",
    "sulbar = sulbar.with_columns(pl.lit(\"Sulbar\").alias(\"KODE TIMKER\"))\n",
    "\n",
    "# Mengatur ulang kolom agar \"KODE TIMKER\" menjadi kolom pertama\n",
    "sulbar = sulbar.select([\n",
    "    \"KODE TIMKER\",  # Kolom pertama\n",
    "    pl.all().exclude(\"KODE TIMKER\")  # Kolom lainnya\n",
    "])\n",
    "\n",
    "rekap_oa = pl.concat([sulbar, rekap_oa])\n",
    "\n",
    "rekap_oa = rekap_oa.with_columns(\n",
    "    pl.when(\n",
    "        pl.col(\"KODE TIMKER\") == \"Sulbar\"\n",
    "    )\n",
    "    .then(pl.lit(\"Sulbar\"))\n",
    "    .otherwise(\n",
    "        pl.lit(\"Timker\")\n",
    "    )\n",
    "    .alias(\"color\")\n",
    ")"
   ]
  },
  {
   "cell_type": "code",
   "execution_count": 66,
   "metadata": {},
   "outputs": [
    {
     "data": {
      "application/vnd.plotly.v1+json": {
       "config": {
        "plotlyServerURL": "https://plot.ly"
       },
       "data": [
        {
         "hovertemplate": "KELOMPOK=Sulbar<br>% ANGGARAN=%{x}<br>% CAPAIAN=%{y}<br>KODE TIMKER=%{text}<extra></extra>",
         "legendgroup": "Sulbar",
         "marker": {
          "color": "blue",
          "size": 15,
          "symbol": "circle"
         },
         "mode": "markers+text",
         "name": "Sulbar",
         "orientation": "v",
         "showlegend": true,
         "text": [
          "Sulbar"
         ],
         "textposition": "top center",
         "type": "scatter",
         "x": [
          39.56
         ],
         "xaxis": "x",
         "y": [
          59.54
         ],
         "yaxis": "y"
        },
        {
         "hovertemplate": "KELOMPOK=Timker<br>% ANGGARAN=%{x}<br>% CAPAIAN=%{y}<br>KODE TIMKER=%{text}<extra></extra>",
         "legendgroup": "Timker",
         "marker": {
          "color": "red",
          "size": 15,
          "symbol": "circle"
         },
         "mode": "markers+text",
         "name": "Timker",
         "orientation": "v",
         "showlegend": true,
         "text": [
          "Datin",
          "Advokasi",
          "Keuangan",
          "Perencanaan",
          "Kepegawaian",
          "Linlap",
          "Dalduk",
          "Stunting",
          "KB",
          "Latbang",
          "ZI",
          "KS"
         ],
         "textposition": "top center",
         "type": "scatter",
         "x": [
          41.54,
          22.67,
          74.45,
          31.78,
          28.9,
          95.89,
          32.1,
          43.81,
          38.88,
          50.77,
          10.75,
          45.33
         ],
         "xaxis": "x",
         "y": [
          62.5,
          29.63,
          100,
          0,
          100,
          100,
          69.92,
          50,
          44,
          56.08,
          50,
          77.52
         ],
         "yaxis": "y"
        }
       ],
       "layout": {
        "legend": {
         "title": {
          "text": "KELOMPOK"
         },
         "tracegroupgap": 0
        },
        "margin": {
         "t": 60
        },
        "paper_bgcolor": "white",
        "plot_bgcolor": "white",
        "shapes": [
         {
          "fillcolor": "lightblue",
          "line": {
           "color": "green"
          },
          "opacity": 0.2,
          "type": "rect",
          "x0": 50,
          "x1": 105,
          "y0": 50,
          "y1": 105
         },
         {
          "fillcolor": "pink",
          "line": {
           "color": "red"
          },
          "opacity": 0.2,
          "type": "rect",
          "x0": 0,
          "x1": 50,
          "y0": 0,
          "y1": 50
         }
        ],
        "template": {
         "data": {
          "bar": [
           {
            "error_x": {
             "color": "#2a3f5f"
            },
            "error_y": {
             "color": "#2a3f5f"
            },
            "marker": {
             "line": {
              "color": "#E5ECF6",
              "width": 0.5
             },
             "pattern": {
              "fillmode": "overlay",
              "size": 10,
              "solidity": 0.2
             }
            },
            "type": "bar"
           }
          ],
          "barpolar": [
           {
            "marker": {
             "line": {
              "color": "#E5ECF6",
              "width": 0.5
             },
             "pattern": {
              "fillmode": "overlay",
              "size": 10,
              "solidity": 0.2
             }
            },
            "type": "barpolar"
           }
          ],
          "carpet": [
           {
            "aaxis": {
             "endlinecolor": "#2a3f5f",
             "gridcolor": "white",
             "linecolor": "white",
             "minorgridcolor": "white",
             "startlinecolor": "#2a3f5f"
            },
            "baxis": {
             "endlinecolor": "#2a3f5f",
             "gridcolor": "white",
             "linecolor": "white",
             "minorgridcolor": "white",
             "startlinecolor": "#2a3f5f"
            },
            "type": "carpet"
           }
          ],
          "choropleth": [
           {
            "colorbar": {
             "outlinewidth": 0,
             "ticks": ""
            },
            "type": "choropleth"
           }
          ],
          "contour": [
           {
            "colorbar": {
             "outlinewidth": 0,
             "ticks": ""
            },
            "colorscale": [
             [
              0,
              "#0d0887"
             ],
             [
              0.1111111111111111,
              "#46039f"
             ],
             [
              0.2222222222222222,
              "#7201a8"
             ],
             [
              0.3333333333333333,
              "#9c179e"
             ],
             [
              0.4444444444444444,
              "#bd3786"
             ],
             [
              0.5555555555555556,
              "#d8576b"
             ],
             [
              0.6666666666666666,
              "#ed7953"
             ],
             [
              0.7777777777777778,
              "#fb9f3a"
             ],
             [
              0.8888888888888888,
              "#fdca26"
             ],
             [
              1,
              "#f0f921"
             ]
            ],
            "type": "contour"
           }
          ],
          "contourcarpet": [
           {
            "colorbar": {
             "outlinewidth": 0,
             "ticks": ""
            },
            "type": "contourcarpet"
           }
          ],
          "heatmap": [
           {
            "colorbar": {
             "outlinewidth": 0,
             "ticks": ""
            },
            "colorscale": [
             [
              0,
              "#0d0887"
             ],
             [
              0.1111111111111111,
              "#46039f"
             ],
             [
              0.2222222222222222,
              "#7201a8"
             ],
             [
              0.3333333333333333,
              "#9c179e"
             ],
             [
              0.4444444444444444,
              "#bd3786"
             ],
             [
              0.5555555555555556,
              "#d8576b"
             ],
             [
              0.6666666666666666,
              "#ed7953"
             ],
             [
              0.7777777777777778,
              "#fb9f3a"
             ],
             [
              0.8888888888888888,
              "#fdca26"
             ],
             [
              1,
              "#f0f921"
             ]
            ],
            "type": "heatmap"
           }
          ],
          "heatmapgl": [
           {
            "colorbar": {
             "outlinewidth": 0,
             "ticks": ""
            },
            "colorscale": [
             [
              0,
              "#0d0887"
             ],
             [
              0.1111111111111111,
              "#46039f"
             ],
             [
              0.2222222222222222,
              "#7201a8"
             ],
             [
              0.3333333333333333,
              "#9c179e"
             ],
             [
              0.4444444444444444,
              "#bd3786"
             ],
             [
              0.5555555555555556,
              "#d8576b"
             ],
             [
              0.6666666666666666,
              "#ed7953"
             ],
             [
              0.7777777777777778,
              "#fb9f3a"
             ],
             [
              0.8888888888888888,
              "#fdca26"
             ],
             [
              1,
              "#f0f921"
             ]
            ],
            "type": "heatmapgl"
           }
          ],
          "histogram": [
           {
            "marker": {
             "pattern": {
              "fillmode": "overlay",
              "size": 10,
              "solidity": 0.2
             }
            },
            "type": "histogram"
           }
          ],
          "histogram2d": [
           {
            "colorbar": {
             "outlinewidth": 0,
             "ticks": ""
            },
            "colorscale": [
             [
              0,
              "#0d0887"
             ],
             [
              0.1111111111111111,
              "#46039f"
             ],
             [
              0.2222222222222222,
              "#7201a8"
             ],
             [
              0.3333333333333333,
              "#9c179e"
             ],
             [
              0.4444444444444444,
              "#bd3786"
             ],
             [
              0.5555555555555556,
              "#d8576b"
             ],
             [
              0.6666666666666666,
              "#ed7953"
             ],
             [
              0.7777777777777778,
              "#fb9f3a"
             ],
             [
              0.8888888888888888,
              "#fdca26"
             ],
             [
              1,
              "#f0f921"
             ]
            ],
            "type": "histogram2d"
           }
          ],
          "histogram2dcontour": [
           {
            "colorbar": {
             "outlinewidth": 0,
             "ticks": ""
            },
            "colorscale": [
             [
              0,
              "#0d0887"
             ],
             [
              0.1111111111111111,
              "#46039f"
             ],
             [
              0.2222222222222222,
              "#7201a8"
             ],
             [
              0.3333333333333333,
              "#9c179e"
             ],
             [
              0.4444444444444444,
              "#bd3786"
             ],
             [
              0.5555555555555556,
              "#d8576b"
             ],
             [
              0.6666666666666666,
              "#ed7953"
             ],
             [
              0.7777777777777778,
              "#fb9f3a"
             ],
             [
              0.8888888888888888,
              "#fdca26"
             ],
             [
              1,
              "#f0f921"
             ]
            ],
            "type": "histogram2dcontour"
           }
          ],
          "mesh3d": [
           {
            "colorbar": {
             "outlinewidth": 0,
             "ticks": ""
            },
            "type": "mesh3d"
           }
          ],
          "parcoords": [
           {
            "line": {
             "colorbar": {
              "outlinewidth": 0,
              "ticks": ""
             }
            },
            "type": "parcoords"
           }
          ],
          "pie": [
           {
            "automargin": true,
            "type": "pie"
           }
          ],
          "scatter": [
           {
            "fillpattern": {
             "fillmode": "overlay",
             "size": 10,
             "solidity": 0.2
            },
            "type": "scatter"
           }
          ],
          "scatter3d": [
           {
            "line": {
             "colorbar": {
              "outlinewidth": 0,
              "ticks": ""
             }
            },
            "marker": {
             "colorbar": {
              "outlinewidth": 0,
              "ticks": ""
             }
            },
            "type": "scatter3d"
           }
          ],
          "scattercarpet": [
           {
            "marker": {
             "colorbar": {
              "outlinewidth": 0,
              "ticks": ""
             }
            },
            "type": "scattercarpet"
           }
          ],
          "scattergeo": [
           {
            "marker": {
             "colorbar": {
              "outlinewidth": 0,
              "ticks": ""
             }
            },
            "type": "scattergeo"
           }
          ],
          "scattergl": [
           {
            "marker": {
             "colorbar": {
              "outlinewidth": 0,
              "ticks": ""
             }
            },
            "type": "scattergl"
           }
          ],
          "scattermapbox": [
           {
            "marker": {
             "colorbar": {
              "outlinewidth": 0,
              "ticks": ""
             }
            },
            "type": "scattermapbox"
           }
          ],
          "scatterpolar": [
           {
            "marker": {
             "colorbar": {
              "outlinewidth": 0,
              "ticks": ""
             }
            },
            "type": "scatterpolar"
           }
          ],
          "scatterpolargl": [
           {
            "marker": {
             "colorbar": {
              "outlinewidth": 0,
              "ticks": ""
             }
            },
            "type": "scatterpolargl"
           }
          ],
          "scatterternary": [
           {
            "marker": {
             "colorbar": {
              "outlinewidth": 0,
              "ticks": ""
             }
            },
            "type": "scatterternary"
           }
          ],
          "surface": [
           {
            "colorbar": {
             "outlinewidth": 0,
             "ticks": ""
            },
            "colorscale": [
             [
              0,
              "#0d0887"
             ],
             [
              0.1111111111111111,
              "#46039f"
             ],
             [
              0.2222222222222222,
              "#7201a8"
             ],
             [
              0.3333333333333333,
              "#9c179e"
             ],
             [
              0.4444444444444444,
              "#bd3786"
             ],
             [
              0.5555555555555556,
              "#d8576b"
             ],
             [
              0.6666666666666666,
              "#ed7953"
             ],
             [
              0.7777777777777778,
              "#fb9f3a"
             ],
             [
              0.8888888888888888,
              "#fdca26"
             ],
             [
              1,
              "#f0f921"
             ]
            ],
            "type": "surface"
           }
          ],
          "table": [
           {
            "cells": {
             "fill": {
              "color": "#EBF0F8"
             },
             "line": {
              "color": "white"
             }
            },
            "header": {
             "fill": {
              "color": "#C8D4E3"
             },
             "line": {
              "color": "white"
             }
            },
            "type": "table"
           }
          ]
         },
         "layout": {
          "annotationdefaults": {
           "arrowcolor": "#2a3f5f",
           "arrowhead": 0,
           "arrowwidth": 1
          },
          "autotypenumbers": "strict",
          "coloraxis": {
           "colorbar": {
            "outlinewidth": 0,
            "ticks": ""
           }
          },
          "colorscale": {
           "diverging": [
            [
             0,
             "#8e0152"
            ],
            [
             0.1,
             "#c51b7d"
            ],
            [
             0.2,
             "#de77ae"
            ],
            [
             0.3,
             "#f1b6da"
            ],
            [
             0.4,
             "#fde0ef"
            ],
            [
             0.5,
             "#f7f7f7"
            ],
            [
             0.6,
             "#e6f5d0"
            ],
            [
             0.7,
             "#b8e186"
            ],
            [
             0.8,
             "#7fbc41"
            ],
            [
             0.9,
             "#4d9221"
            ],
            [
             1,
             "#276419"
            ]
           ],
           "sequential": [
            [
             0,
             "#0d0887"
            ],
            [
             0.1111111111111111,
             "#46039f"
            ],
            [
             0.2222222222222222,
             "#7201a8"
            ],
            [
             0.3333333333333333,
             "#9c179e"
            ],
            [
             0.4444444444444444,
             "#bd3786"
            ],
            [
             0.5555555555555556,
             "#d8576b"
            ],
            [
             0.6666666666666666,
             "#ed7953"
            ],
            [
             0.7777777777777778,
             "#fb9f3a"
            ],
            [
             0.8888888888888888,
             "#fdca26"
            ],
            [
             1,
             "#f0f921"
            ]
           ],
           "sequentialminus": [
            [
             0,
             "#0d0887"
            ],
            [
             0.1111111111111111,
             "#46039f"
            ],
            [
             0.2222222222222222,
             "#7201a8"
            ],
            [
             0.3333333333333333,
             "#9c179e"
            ],
            [
             0.4444444444444444,
             "#bd3786"
            ],
            [
             0.5555555555555556,
             "#d8576b"
            ],
            [
             0.6666666666666666,
             "#ed7953"
            ],
            [
             0.7777777777777778,
             "#fb9f3a"
            ],
            [
             0.8888888888888888,
             "#fdca26"
            ],
            [
             1,
             "#f0f921"
            ]
           ]
          },
          "colorway": [
           "#636efa",
           "#EF553B",
           "#00cc96",
           "#ab63fa",
           "#FFA15A",
           "#19d3f3",
           "#FF6692",
           "#B6E880",
           "#FF97FF",
           "#FECB52"
          ],
          "font": {
           "color": "#2a3f5f"
          },
          "geo": {
           "bgcolor": "white",
           "lakecolor": "white",
           "landcolor": "#E5ECF6",
           "showlakes": true,
           "showland": true,
           "subunitcolor": "white"
          },
          "hoverlabel": {
           "align": "left"
          },
          "hovermode": "closest",
          "mapbox": {
           "style": "light"
          },
          "paper_bgcolor": "white",
          "plot_bgcolor": "#E5ECF6",
          "polar": {
           "angularaxis": {
            "gridcolor": "white",
            "linecolor": "white",
            "ticks": ""
           },
           "bgcolor": "#E5ECF6",
           "radialaxis": {
            "gridcolor": "white",
            "linecolor": "white",
            "ticks": ""
           }
          },
          "scene": {
           "xaxis": {
            "backgroundcolor": "#E5ECF6",
            "gridcolor": "white",
            "gridwidth": 2,
            "linecolor": "white",
            "showbackground": true,
            "ticks": "",
            "zerolinecolor": "white"
           },
           "yaxis": {
            "backgroundcolor": "#E5ECF6",
            "gridcolor": "white",
            "gridwidth": 2,
            "linecolor": "white",
            "showbackground": true,
            "ticks": "",
            "zerolinecolor": "white"
           },
           "zaxis": {
            "backgroundcolor": "#E5ECF6",
            "gridcolor": "white",
            "gridwidth": 2,
            "linecolor": "white",
            "showbackground": true,
            "ticks": "",
            "zerolinecolor": "white"
           }
          },
          "shapedefaults": {
           "line": {
            "color": "#2a3f5f"
           }
          },
          "ternary": {
           "aaxis": {
            "gridcolor": "white",
            "linecolor": "white",
            "ticks": ""
           },
           "baxis": {
            "gridcolor": "white",
            "linecolor": "white",
            "ticks": ""
           },
           "bgcolor": "#E5ECF6",
           "caxis": {
            "gridcolor": "white",
            "linecolor": "white",
            "ticks": ""
           }
          },
          "title": {
           "x": 0.05
          },
          "xaxis": {
           "automargin": true,
           "gridcolor": "white",
           "linecolor": "white",
           "ticks": "",
           "title": {
            "standoff": 15
           },
           "zerolinecolor": "white",
           "zerolinewidth": 2
          },
          "yaxis": {
           "automargin": true,
           "gridcolor": "white",
           "linecolor": "white",
           "ticks": "",
           "title": {
            "standoff": 15
           },
           "zerolinecolor": "white",
           "zerolinewidth": 2
          }
         }
        },
        "xaxis": {
         "anchor": "y",
         "domain": [
          0,
          1
         ],
         "title": {
          "text": "% ANGGARAN"
         }
        },
        "yaxis": {
         "anchor": "x",
         "domain": [
          0,
          1
         ],
         "title": {
          "text": "% CAPAIAN"
         }
        }
       }
      }
     },
     "metadata": {},
     "output_type": "display_data"
    }
   ],
   "source": [
    "import plotly.express as px\n",
    "\n",
    "color_map = {\n",
    "    'Sulbar': 'blue',\n",
    "    'Timker': 'red'\n",
    "}\n",
    "\n",
    "fig = px.scatter(rekap_oa, x=\"% ANGGARAN\", y=\"% CAPAIAN\", \n",
    "                 text=\"KODE TIMKER\", color=\"color\", \n",
    "                 color_discrete_map=color_map,\n",
    "                 labels={\"color\": \"KELOMPOK\"})\n",
    "fig.update_traces(marker=dict(size=15), textposition='top center')  # Ubah ukuran point\n",
    "fig.update_layout(\n",
    "    plot_bgcolor='white',  # Background plot\n",
    "    paper_bgcolor='white'  # Background keseluruhan\n",
    ")\n",
    "# Menambahkan persegi panjang (rectangles) ke dalam layout\n",
    "fig.update_layout(\n",
    "    shapes=[\n",
    "        # Persegi panjang pertama\n",
    "        dict(\n",
    "            type=\"rect\",\n",
    "            x0=50, x1=105,  # Koordinat X untuk persegi panjang\n",
    "            y0=50, y1=105,  # Koordinat Y untuk persegi panjang\n",
    "            line=dict(color=\"green\"),  # Warna garis tepi\n",
    "            fillcolor=\"lightblue\",  # Warna isi\n",
    "            opacity=0.2  # Transparansi persegi panjang\n",
    "        ),\n",
    "        # Persegi panjang kedua\n",
    "        dict(\n",
    "            type=\"rect\",\n",
    "            x0=0, x1=50,  # Koordinat X untuk persegi panjang\n",
    "            y0=0, y1=50,  # Koordinat Y untuk persegi panjang\n",
    "            line=dict(color=\"red\"),  # Warna garis tepi\n",
    "            fillcolor=\"pink\",  # Warna isi\n",
    "            opacity=0.2  # Transparansi persegi panjang\n",
    "        )\n",
    "    ]\n",
    ")\n",
    "\n",
    "fig.show()"
   ]
  },
  {
   "cell_type": "code",
   "execution_count": 5,
   "metadata": {},
   "outputs": [
    {
     "data": {
      "application/vnd.plotly.v1+json": {
       "config": {
        "plotlyServerURL": "https://plot.ly"
       },
       "data": [
        {
         "hovertemplate": "KELOMPOK=Sulbar<br>% ANGGARAN=%{x}<br>% CAPAIAN=%{y}<br>KODE TIMKER=%{text}<extra></extra>",
         "legendgroup": "Sulbar",
         "marker": {
          "color": "blue",
          "size": 15,
          "symbol": "circle"
         },
         "mode": "markers+text",
         "name": "Sulbar",
         "orientation": "v",
         "showlegend": true,
         "text": [
          "Sulbar"
         ],
         "textposition": "top center",
         "type": "scatter",
         "x": [
          39.56
         ],
         "xaxis": "x",
         "y": [
          59.54
         ],
         "yaxis": "y"
        },
        {
         "hovertemplate": "KELOMPOK=Timker<br>% ANGGARAN=%{x}<br>% CAPAIAN=%{y}<br>KODE TIMKER=%{text}<extra></extra>",
         "legendgroup": "Timker",
         "marker": {
          "color": "red",
          "size": 15,
          "symbol": "circle"
         },
         "mode": "markers+text",
         "name": "Timker",
         "orientation": "v",
         "showlegend": true,
         "text": [
          "KB",
          "Dalduk",
          "Datin",
          "Keuangan",
          "KS",
          "Advokasi",
          "Linlap",
          "Perencanaan",
          "ZI",
          "Latbang",
          "Stunting",
          "Kepegawaian"
         ],
         "textposition": "top center",
         "type": "scatter",
         "x": [
          38.88,
          32.1,
          41.54,
          74.45,
          45.33,
          22.67,
          95.89,
          31.78,
          10.75,
          50.77,
          43.81,
          28.9
         ],
         "xaxis": "x",
         "y": [
          44,
          69.92,
          62.5,
          100,
          77.52,
          29.63,
          100,
          0,
          50,
          56.08,
          50,
          100
         ],
         "yaxis": "y"
        }
       ],
       "layout": {
        "legend": {
         "title": {
          "text": "KELOMPOK"
         },
         "tracegroupgap": 0
        },
        "margin": {
         "t": 60
        },
        "paper_bgcolor": "white",
        "plot_bgcolor": "white",
        "shapes": [
         {
          "fillcolor": "lightblue",
          "line": {
           "color": "green"
          },
          "opacity": 0.2,
          "type": "rect",
          "x0": 50,
          "x1": 105,
          "y0": 50,
          "y1": 105
         },
         {
          "fillcolor": "pink",
          "line": {
           "color": "red"
          },
          "opacity": 0.2,
          "type": "rect",
          "x0": 0,
          "x1": 50,
          "y0": 0,
          "y1": 50
         }
        ],
        "template": {
         "data": {
          "bar": [
           {
            "error_x": {
             "color": "#2a3f5f"
            },
            "error_y": {
             "color": "#2a3f5f"
            },
            "marker": {
             "line": {
              "color": "#E5ECF6",
              "width": 0.5
             },
             "pattern": {
              "fillmode": "overlay",
              "size": 10,
              "solidity": 0.2
             }
            },
            "type": "bar"
           }
          ],
          "barpolar": [
           {
            "marker": {
             "line": {
              "color": "#E5ECF6",
              "width": 0.5
             },
             "pattern": {
              "fillmode": "overlay",
              "size": 10,
              "solidity": 0.2
             }
            },
            "type": "barpolar"
           }
          ],
          "carpet": [
           {
            "aaxis": {
             "endlinecolor": "#2a3f5f",
             "gridcolor": "white",
             "linecolor": "white",
             "minorgridcolor": "white",
             "startlinecolor": "#2a3f5f"
            },
            "baxis": {
             "endlinecolor": "#2a3f5f",
             "gridcolor": "white",
             "linecolor": "white",
             "minorgridcolor": "white",
             "startlinecolor": "#2a3f5f"
            },
            "type": "carpet"
           }
          ],
          "choropleth": [
           {
            "colorbar": {
             "outlinewidth": 0,
             "ticks": ""
            },
            "type": "choropleth"
           }
          ],
          "contour": [
           {
            "colorbar": {
             "outlinewidth": 0,
             "ticks": ""
            },
            "colorscale": [
             [
              0,
              "#0d0887"
             ],
             [
              0.1111111111111111,
              "#46039f"
             ],
             [
              0.2222222222222222,
              "#7201a8"
             ],
             [
              0.3333333333333333,
              "#9c179e"
             ],
             [
              0.4444444444444444,
              "#bd3786"
             ],
             [
              0.5555555555555556,
              "#d8576b"
             ],
             [
              0.6666666666666666,
              "#ed7953"
             ],
             [
              0.7777777777777778,
              "#fb9f3a"
             ],
             [
              0.8888888888888888,
              "#fdca26"
             ],
             [
              1,
              "#f0f921"
             ]
            ],
            "type": "contour"
           }
          ],
          "contourcarpet": [
           {
            "colorbar": {
             "outlinewidth": 0,
             "ticks": ""
            },
            "type": "contourcarpet"
           }
          ],
          "heatmap": [
           {
            "colorbar": {
             "outlinewidth": 0,
             "ticks": ""
            },
            "colorscale": [
             [
              0,
              "#0d0887"
             ],
             [
              0.1111111111111111,
              "#46039f"
             ],
             [
              0.2222222222222222,
              "#7201a8"
             ],
             [
              0.3333333333333333,
              "#9c179e"
             ],
             [
              0.4444444444444444,
              "#bd3786"
             ],
             [
              0.5555555555555556,
              "#d8576b"
             ],
             [
              0.6666666666666666,
              "#ed7953"
             ],
             [
              0.7777777777777778,
              "#fb9f3a"
             ],
             [
              0.8888888888888888,
              "#fdca26"
             ],
             [
              1,
              "#f0f921"
             ]
            ],
            "type": "heatmap"
           }
          ],
          "heatmapgl": [
           {
            "colorbar": {
             "outlinewidth": 0,
             "ticks": ""
            },
            "colorscale": [
             [
              0,
              "#0d0887"
             ],
             [
              0.1111111111111111,
              "#46039f"
             ],
             [
              0.2222222222222222,
              "#7201a8"
             ],
             [
              0.3333333333333333,
              "#9c179e"
             ],
             [
              0.4444444444444444,
              "#bd3786"
             ],
             [
              0.5555555555555556,
              "#d8576b"
             ],
             [
              0.6666666666666666,
              "#ed7953"
             ],
             [
              0.7777777777777778,
              "#fb9f3a"
             ],
             [
              0.8888888888888888,
              "#fdca26"
             ],
             [
              1,
              "#f0f921"
             ]
            ],
            "type": "heatmapgl"
           }
          ],
          "histogram": [
           {
            "marker": {
             "pattern": {
              "fillmode": "overlay",
              "size": 10,
              "solidity": 0.2
             }
            },
            "type": "histogram"
           }
          ],
          "histogram2d": [
           {
            "colorbar": {
             "outlinewidth": 0,
             "ticks": ""
            },
            "colorscale": [
             [
              0,
              "#0d0887"
             ],
             [
              0.1111111111111111,
              "#46039f"
             ],
             [
              0.2222222222222222,
              "#7201a8"
             ],
             [
              0.3333333333333333,
              "#9c179e"
             ],
             [
              0.4444444444444444,
              "#bd3786"
             ],
             [
              0.5555555555555556,
              "#d8576b"
             ],
             [
              0.6666666666666666,
              "#ed7953"
             ],
             [
              0.7777777777777778,
              "#fb9f3a"
             ],
             [
              0.8888888888888888,
              "#fdca26"
             ],
             [
              1,
              "#f0f921"
             ]
            ],
            "type": "histogram2d"
           }
          ],
          "histogram2dcontour": [
           {
            "colorbar": {
             "outlinewidth": 0,
             "ticks": ""
            },
            "colorscale": [
             [
              0,
              "#0d0887"
             ],
             [
              0.1111111111111111,
              "#46039f"
             ],
             [
              0.2222222222222222,
              "#7201a8"
             ],
             [
              0.3333333333333333,
              "#9c179e"
             ],
             [
              0.4444444444444444,
              "#bd3786"
             ],
             [
              0.5555555555555556,
              "#d8576b"
             ],
             [
              0.6666666666666666,
              "#ed7953"
             ],
             [
              0.7777777777777778,
              "#fb9f3a"
             ],
             [
              0.8888888888888888,
              "#fdca26"
             ],
             [
              1,
              "#f0f921"
             ]
            ],
            "type": "histogram2dcontour"
           }
          ],
          "mesh3d": [
           {
            "colorbar": {
             "outlinewidth": 0,
             "ticks": ""
            },
            "type": "mesh3d"
           }
          ],
          "parcoords": [
           {
            "line": {
             "colorbar": {
              "outlinewidth": 0,
              "ticks": ""
             }
            },
            "type": "parcoords"
           }
          ],
          "pie": [
           {
            "automargin": true,
            "type": "pie"
           }
          ],
          "scatter": [
           {
            "fillpattern": {
             "fillmode": "overlay",
             "size": 10,
             "solidity": 0.2
            },
            "type": "scatter"
           }
          ],
          "scatter3d": [
           {
            "line": {
             "colorbar": {
              "outlinewidth": 0,
              "ticks": ""
             }
            },
            "marker": {
             "colorbar": {
              "outlinewidth": 0,
              "ticks": ""
             }
            },
            "type": "scatter3d"
           }
          ],
          "scattercarpet": [
           {
            "marker": {
             "colorbar": {
              "outlinewidth": 0,
              "ticks": ""
             }
            },
            "type": "scattercarpet"
           }
          ],
          "scattergeo": [
           {
            "marker": {
             "colorbar": {
              "outlinewidth": 0,
              "ticks": ""
             }
            },
            "type": "scattergeo"
           }
          ],
          "scattergl": [
           {
            "marker": {
             "colorbar": {
              "outlinewidth": 0,
              "ticks": ""
             }
            },
            "type": "scattergl"
           }
          ],
          "scattermapbox": [
           {
            "marker": {
             "colorbar": {
              "outlinewidth": 0,
              "ticks": ""
             }
            },
            "type": "scattermapbox"
           }
          ],
          "scatterpolar": [
           {
            "marker": {
             "colorbar": {
              "outlinewidth": 0,
              "ticks": ""
             }
            },
            "type": "scatterpolar"
           }
          ],
          "scatterpolargl": [
           {
            "marker": {
             "colorbar": {
              "outlinewidth": 0,
              "ticks": ""
             }
            },
            "type": "scatterpolargl"
           }
          ],
          "scatterternary": [
           {
            "marker": {
             "colorbar": {
              "outlinewidth": 0,
              "ticks": ""
             }
            },
            "type": "scatterternary"
           }
          ],
          "surface": [
           {
            "colorbar": {
             "outlinewidth": 0,
             "ticks": ""
            },
            "colorscale": [
             [
              0,
              "#0d0887"
             ],
             [
              0.1111111111111111,
              "#46039f"
             ],
             [
              0.2222222222222222,
              "#7201a8"
             ],
             [
              0.3333333333333333,
              "#9c179e"
             ],
             [
              0.4444444444444444,
              "#bd3786"
             ],
             [
              0.5555555555555556,
              "#d8576b"
             ],
             [
              0.6666666666666666,
              "#ed7953"
             ],
             [
              0.7777777777777778,
              "#fb9f3a"
             ],
             [
              0.8888888888888888,
              "#fdca26"
             ],
             [
              1,
              "#f0f921"
             ]
            ],
            "type": "surface"
           }
          ],
          "table": [
           {
            "cells": {
             "fill": {
              "color": "#EBF0F8"
             },
             "line": {
              "color": "white"
             }
            },
            "header": {
             "fill": {
              "color": "#C8D4E3"
             },
             "line": {
              "color": "white"
             }
            },
            "type": "table"
           }
          ]
         },
         "layout": {
          "annotationdefaults": {
           "arrowcolor": "#2a3f5f",
           "arrowhead": 0,
           "arrowwidth": 1
          },
          "autotypenumbers": "strict",
          "coloraxis": {
           "colorbar": {
            "outlinewidth": 0,
            "ticks": ""
           }
          },
          "colorscale": {
           "diverging": [
            [
             0,
             "#8e0152"
            ],
            [
             0.1,
             "#c51b7d"
            ],
            [
             0.2,
             "#de77ae"
            ],
            [
             0.3,
             "#f1b6da"
            ],
            [
             0.4,
             "#fde0ef"
            ],
            [
             0.5,
             "#f7f7f7"
            ],
            [
             0.6,
             "#e6f5d0"
            ],
            [
             0.7,
             "#b8e186"
            ],
            [
             0.8,
             "#7fbc41"
            ],
            [
             0.9,
             "#4d9221"
            ],
            [
             1,
             "#276419"
            ]
           ],
           "sequential": [
            [
             0,
             "#0d0887"
            ],
            [
             0.1111111111111111,
             "#46039f"
            ],
            [
             0.2222222222222222,
             "#7201a8"
            ],
            [
             0.3333333333333333,
             "#9c179e"
            ],
            [
             0.4444444444444444,
             "#bd3786"
            ],
            [
             0.5555555555555556,
             "#d8576b"
            ],
            [
             0.6666666666666666,
             "#ed7953"
            ],
            [
             0.7777777777777778,
             "#fb9f3a"
            ],
            [
             0.8888888888888888,
             "#fdca26"
            ],
            [
             1,
             "#f0f921"
            ]
           ],
           "sequentialminus": [
            [
             0,
             "#0d0887"
            ],
            [
             0.1111111111111111,
             "#46039f"
            ],
            [
             0.2222222222222222,
             "#7201a8"
            ],
            [
             0.3333333333333333,
             "#9c179e"
            ],
            [
             0.4444444444444444,
             "#bd3786"
            ],
            [
             0.5555555555555556,
             "#d8576b"
            ],
            [
             0.6666666666666666,
             "#ed7953"
            ],
            [
             0.7777777777777778,
             "#fb9f3a"
            ],
            [
             0.8888888888888888,
             "#fdca26"
            ],
            [
             1,
             "#f0f921"
            ]
           ]
          },
          "colorway": [
           "#636efa",
           "#EF553B",
           "#00cc96",
           "#ab63fa",
           "#FFA15A",
           "#19d3f3",
           "#FF6692",
           "#B6E880",
           "#FF97FF",
           "#FECB52"
          ],
          "font": {
           "color": "#2a3f5f"
          },
          "geo": {
           "bgcolor": "white",
           "lakecolor": "white",
           "landcolor": "#E5ECF6",
           "showlakes": true,
           "showland": true,
           "subunitcolor": "white"
          },
          "hoverlabel": {
           "align": "left"
          },
          "hovermode": "closest",
          "mapbox": {
           "style": "light"
          },
          "paper_bgcolor": "white",
          "plot_bgcolor": "#E5ECF6",
          "polar": {
           "angularaxis": {
            "gridcolor": "white",
            "linecolor": "white",
            "ticks": ""
           },
           "bgcolor": "#E5ECF6",
           "radialaxis": {
            "gridcolor": "white",
            "linecolor": "white",
            "ticks": ""
           }
          },
          "scene": {
           "xaxis": {
            "backgroundcolor": "#E5ECF6",
            "gridcolor": "white",
            "gridwidth": 2,
            "linecolor": "white",
            "showbackground": true,
            "ticks": "",
            "zerolinecolor": "white"
           },
           "yaxis": {
            "backgroundcolor": "#E5ECF6",
            "gridcolor": "white",
            "gridwidth": 2,
            "linecolor": "white",
            "showbackground": true,
            "ticks": "",
            "zerolinecolor": "white"
           },
           "zaxis": {
            "backgroundcolor": "#E5ECF6",
            "gridcolor": "white",
            "gridwidth": 2,
            "linecolor": "white",
            "showbackground": true,
            "ticks": "",
            "zerolinecolor": "white"
           }
          },
          "shapedefaults": {
           "line": {
            "color": "#2a3f5f"
           }
          },
          "ternary": {
           "aaxis": {
            "gridcolor": "white",
            "linecolor": "white",
            "ticks": ""
           },
           "baxis": {
            "gridcolor": "white",
            "linecolor": "white",
            "ticks": ""
           },
           "bgcolor": "#E5ECF6",
           "caxis": {
            "gridcolor": "white",
            "linecolor": "white",
            "ticks": ""
           }
          },
          "title": {
           "x": 0.05
          },
          "xaxis": {
           "automargin": true,
           "gridcolor": "white",
           "linecolor": "white",
           "ticks": "",
           "title": {
            "standoff": 15
           },
           "zerolinecolor": "white",
           "zerolinewidth": 2
          },
          "yaxis": {
           "automargin": true,
           "gridcolor": "white",
           "linecolor": "white",
           "ticks": "",
           "title": {
            "standoff": 15
           },
           "zerolinecolor": "white",
           "zerolinewidth": 2
          }
         }
        },
        "xaxis": {
         "anchor": "y",
         "domain": [
          0,
          1
         ],
         "title": {
          "text": "% ANGGARAN"
         }
        },
        "yaxis": {
         "anchor": "x",
         "domain": [
          0,
          1
         ],
         "title": {
          "text": "% CAPAIAN"
         }
        }
       }
      }
     },
     "metadata": {},
     "output_type": "display_data"
    }
   ],
   "source": [
    "rekap_oa = output_anggaran.group_by(\n",
    "    \"KODE TIMKER\"\n",
    ").agg(\n",
    "    [pl.col(\"PERSENTASE CAPAIAN\").mean().alias(\"% CAPAIAN\").round(2),\n",
    "    pl.col(\"PERSENTASE REALISASI ANGGARAN\").mean().alias(\"% ANGGARAN\").round(2)]\n",
    ")\n",
    "\n",
    "sulbar = output_anggaran.select(\n",
    "    pl.col(\"PERSENTASE CAPAIAN\").mean().alias(\"% CAPAIAN\").round(2),\n",
    "    pl.col(\"PERSENTASE REALISASI ANGGARAN\").mean().alias(\"% ANGGARAN\").round(2)\n",
    ")\n",
    "\n",
    "# Menambahkan kolom \"KODE TIMKER\" dengan nilai \"Sulbar\"\n",
    "sulbar = sulbar.with_columns(pl.lit(\"Sulbar\").alias(\"KODE TIMKER\"))\n",
    "\n",
    "# Mengatur ulang kolom agar \"KODE TIMKER\" menjadi kolom pertama\n",
    "sulbar = sulbar.select([\n",
    "    \"KODE TIMKER\",  # Kolom pertama\n",
    "    pl.all().exclude(\"KODE TIMKER\")  # Kolom lainnya\n",
    "])\n",
    "\n",
    "rekap_oa = pl.concat([sulbar, rekap_oa])\n",
    "\n",
    "rekap_oa = rekap_oa.with_columns(\n",
    "    pl.when(\n",
    "        pl.col(\"KODE TIMKER\") == \"Sulbar\"\n",
    "    )\n",
    "    .then(pl.lit(\"Sulbar\"))\n",
    "    .otherwise(\n",
    "        pl.lit(\"Timker\")\n",
    "    )\n",
    "    .alias(\"color\")\n",
    ")\n",
    "\n",
    "color_map = {\n",
    "    'Sulbar': 'blue',\n",
    "    'Timker': 'red'\n",
    "}\n",
    "\n",
    "fig = px.scatter(rekap_oa, x=\"% ANGGARAN\", y=\"% CAPAIAN\", \n",
    "                text=\"KODE TIMKER\", color=\"color\", \n",
    "                color_discrete_map=color_map,\n",
    "                labels={\"color\": \"KELOMPOK\"})\n",
    "fig.update_traces(marker=dict(size=15), textposition='top center')  # Ubah ukuran point\n",
    "fig.update_layout(\n",
    "    plot_bgcolor='white',  # Background plot\n",
    "    paper_bgcolor='white'  # Background keseluruhan\n",
    ")\n",
    "#Menambahkan persegi panjang (rectangles) ke dalam layout\n",
    "fig.update_layout(\n",
    "    shapes=[\n",
    "        # Persegi panjang pertama\n",
    "        dict(\n",
    "            type=\"rect\",\n",
    "            x0=50, x1=105,  # Koordinat X untuk persegi panjang\n",
    "            y0=50, y1=105,  # Koordinat Y untuk persegi panjang\n",
    "            line=dict(color=\"green\"),  # Warna garis tepi\n",
    "            fillcolor=\"lightblue\",  # Warna isi\n",
    "            opacity=0.2  # Transparansi persegi panjang\n",
    "        ),\n",
    "        # Persegi panjang kedua\n",
    "        dict(\n",
    "            type=\"rect\",\n",
    "            x0=0, x1=50,  # Koordinat X untuk persegi panjang\n",
    "            y0=0, y1=50,  # Koordinat Y untuk persegi panjang\n",
    "            line=dict(color=\"red\"),  # Warna garis tepi\n",
    "            fillcolor=\"pink\",  # Warna isi\n",
    "            opacity=0.2  # Transparansi persegi panjang\n",
    "        )\n",
    "    ]\n",
    ")"
   ]
  },
  {
   "cell_type": "code",
   "execution_count": 9,
   "metadata": {},
   "outputs": [
    {
     "data": {
      "text/plain": [
       "['Pelatihan dan Peningkatan Kompetensi',\n",
       " 'Pengelolaan dan Pembinaan Tenaga Lini Lapangan',\n",
       " 'Perencanaan dan Manajemen Kinerja',\n",
       " 'Hubungan Antar Lembaga, Advokasi, KIE dan Kehumasan',\n",
       " 'Keuangan, Anggaran dan Pengelolaan BMN',\n",
       " 'ZI WBK/WBBM dan SPIP',\n",
       " 'Akses, Kualitas Layanan KB dan Kesehatan Reproduksi',\n",
       " 'Ketahanan Keluarga',\n",
       " 'Pengendalian Penduduk',\n",
       " 'Pelaporan dan Statistik dan Pengelolaan TIK',\n",
       " 'Hukum, Kepegawaian, Umum dan Pelayanan Publik',\n",
       " 'Pencegahan Stunting']"
      ]
     },
     "execution_count": 9,
     "metadata": {},
     "output_type": "execute_result"
    }
   ],
   "source": [
    "unik = output_anggaran.select(pl.col(\"TIM KERJA\").unique())\n",
    "unik[\"TIM KERJA\"].to_list()"
   ]
  },
  {
   "cell_type": "code",
   "execution_count": 5,
   "metadata": {},
   "outputs": [],
   "source": [
    "import pandas"
   ]
  },
  {
   "cell_type": "code",
   "execution_count": null,
   "metadata": {},
   "outputs": [],
   "source": []
  }
 ],
 "metadata": {
  "kernelspec": {
   "display_name": "shinypy",
   "language": "python",
   "name": "python3"
  },
  "language_info": {
   "codemirror_mode": {
    "name": "ipython",
    "version": 3
   },
   "file_extension": ".py",
   "mimetype": "text/x-python",
   "name": "python",
   "nbconvert_exporter": "python",
   "pygments_lexer": "ipython3",
   "version": "3.10.12"
  }
 },
 "nbformat": 4,
 "nbformat_minor": 2
}
